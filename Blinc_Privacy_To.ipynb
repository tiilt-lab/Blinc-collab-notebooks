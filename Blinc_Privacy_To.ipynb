{
  "nbformat": 4,
  "nbformat_minor": 0,
  "metadata": {
    "colab": {
      "provenance": []
    },
    "kernelspec": {
      "name": "python3",
      "display_name": "Python 3"
    },
    "language_info": {
      "name": "python"
    }
  },
  "cells": [
    {
      "cell_type": "code",
      "execution_count": 1,
      "metadata": {
        "colab": {
          "base_uri": "https://localhost:8080/"
        },
        "id": "cZ8ZWc8dlypp",
        "outputId": "22ad57de-3b83-4615-8483-f6415e9e6565"
      },
      "outputs": [
        {
          "output_type": "stream",
          "name": "stderr",
          "text": [
            "/usr/local/lib/python3.8/dist-packages/torch/cuda/__init__.py:497: UserWarning: Can't initialize NVML\n",
            "  warnings.warn(\"Can't initialize NVML\")\n"
          ]
        }
      ],
      "source": [
        "import pandas as pd\n",
        "import spacy\n",
        "nlp = spacy.load(\"en_core_web_sm\")\n",
        "# nlp.max_length = 1850000"
      ]
    },
    {
      "cell_type": "code",
      "source": [
        "df = pd.read_csv(\"/content/privacy_data_analysis.csv\")"
      ],
      "metadata": {
        "id": "W45h12COf_Sb"
      },
      "execution_count": 2,
      "outputs": []
    },
    {
      "cell_type": "code",
      "source": [
        "df.info()"
      ],
      "metadata": {
        "colab": {
          "base_uri": "https://localhost:8080/"
        },
        "id": "i8qbxKmkgD6z",
        "outputId": "860dc1c3-36cd-42c2-bec0-a30b10830698"
      },
      "execution_count": 3,
      "outputs": [
        {
          "output_type": "stream",
          "name": "stdout",
          "text": [
            "<class 'pandas.core.frame.DataFrame'>\n",
            "RangeIndex: 304 entries, 0 to 303\n",
            "Data columns (total 11 columns):\n",
            " #   Column      Non-Null Count  Dtype \n",
            "---  ------      --------------  ----- \n",
            " 0   ResponseId  304 non-null    object\n",
            " 1   Q19         214 non-null    object\n",
            " 2   Q20         214 non-null    object\n",
            " 3   Q21         214 non-null    object\n",
            " 4   Q22         36 non-null     object\n",
            " 5   Q24         214 non-null    object\n",
            " 6   Q46         214 non-null    object\n",
            " 7   Q25         213 non-null    object\n",
            " 8   Q26         214 non-null    object\n",
            " 9   Q27         214 non-null    object\n",
            " 10  Q29         214 non-null    object\n",
            "dtypes: object(11)\n",
            "memory usage: 26.2+ KB\n"
          ]
        }
      ]
    },
    {
      "cell_type": "code",
      "source": [
        "df.Q19[0]"
      ],
      "metadata": {
        "colab": {
          "base_uri": "https://localhost:8080/",
          "height": 54
        },
        "id": "zdklzC7Tg-M6",
        "outputId": "5a3ad156-35cd-494c-cf49-ba1b4939cce8"
      },
      "execution_count": 4,
      "outputs": [
        {
          "output_type": "execute_result",
          "data": {
            "text/plain": [
              "'It would monitor what we are saying to give real time statistics into our conversations. The primary benefit would be in retrieving a transcript of the conversation.'"
            ],
            "application/vnd.google.colaboratory.intrinsic+json": {
              "type": "string"
            }
          },
          "metadata": {},
          "execution_count": 4
        }
      ]
    },
    {
      "cell_type": "code",
      "source": [
        "all_text = df.Q19.str.cat(sep = ' ')"
      ],
      "metadata": {
        "id": "DA0j4PD7hDAX"
      },
      "execution_count": 5,
      "outputs": []
    },
    {
      "cell_type": "code",
      "source": [
        "all_text"
      ],
      "metadata": {
        "colab": {
          "base_uri": "https://localhost:8080/",
          "height": 165
        },
        "id": "anhgRTDqhOG3",
        "outputId": "5cd32f9d-fbe3-418e-9c42-727a96fd46bc"
      },
      "execution_count": 12,
      "outputs": [
        {
          "output_type": "execute_result",
          "data": {
            "text/plain": [
              "'It would monitor what we are saying to give real time statistics into our conversations. The primary benefit would be in retrieving a transcript of the conversation. The data capture platform described in the video is used to analyze a collaborative conversation. It records the conversation transcript and provides data insights on the types of words, different speakers, etc. Collaborative learning and for supporting learning, really interesting and a tool I can definitely see myself using The Blinc platform provides learning groups with a data analysis toolkit for collecting conversation. It uses a respeaker or computer to take input in the form of audio input and processing it. The platform determines trends or topics in the speech. No comment. .                                                     .                                                       .                                                       Let everyone show themselves publicly, and other students can understand others more directly to improve themselves It appears to give both live feedback on the nature of a discussion which is also recorded for future reference. This allows users to be evaluated for their contributions in a variety of categories which may more effectively inform users how to improve their group collaborations in the future (eg. dominating the conversation, lots of emotional verbiage, lack of novel or intellectual contributions, etc.) Collecting data from group conversation and analyze the sentences from several aspects， like tones, emotions. The purpose of the data capture platform is to promote good collaboration. This is done through the use of speech recognition and data analytics. It creates a transcript of audio and separates it into different sections to make it easily accessible. The purpose is to make it easier to access different parts of the discussion. the video was very informative. the video taught me a lot about collaboration and how to effectively collaborate with others. The purpose of the platform is to allow instructors and facilitators to be able to understand who is participating and who is not. The platform also provides transcripts of what exactly each student says. The data capture platform allows for real-time monitoring of discussion. It highlights keyword usage, displays what direction audio is coming from, records full sentences and sentences surrounding keywords, and interprets tone of discussion. The data capture platform records discussions, and provides analysis of the discussion. It allows you to track key words as well as monitoring certain things such as confusion or engagement. It allows analyzing how the discussion goes to be more scientific and effective. It\\'s also good for review after the fact since the data will be present and you won\\'t have to rely on your own memory. The platform is meant to collect student data for use in the classroom so that students may be instructed more personally Please provide 2-3 sentences about the purpose and functionality of the data capture platform described in the video.  I understand how this information might be useful for supporting learning.Please provide 2-3 sentences about the purpose and functionality of the data capture platform described in the video.  I understand how this information might be useful for supporting learning. The capture platform keeps track of conversations and can detect various aspects. Some important ones include the direction in which discussion came from and the tone/mood.  The platform records audio from individuals\\' devices, using machine learning to analyze and categorize group discussions. It allows you to see when individuals were actively collaborating, when questions were being asked, and when members were silent, and it also shows the overall tone/mood of the discussion. It can be used to analyze the broad characteristics of a conversation like contribution dynamics and tone. The data capture platform allows groups to track collaboration quality both during and after collaboration. It also allows groups to stay organized and on top of all tasks. Paying attention to participation data during the collaboration is particularly important for the analysis of the collaboration. The online dashboard that gives the discussion facilitator several real-time insights into each group. The purpose is to observe collaborative learning. The functionality is an online dashboard that gives the discussion facilitator key insights into the group dynamics. It seems like the purpose of the tool is to capture important insights about what is said in the recordings that may not be easily noticeable by a human, such as keywords and other nuances/rhetoric of the speech. I think it could definitely provide some information that people don\\'t notice every day. It is supposed to be used to anlalyze speech on multiple different levels. These levels seem to include subject matter, tone, and emotion among others. I think this is a really cool device that could have a lots of potential. The purpose of this data capture platform is to enhance group collaboration by collecting and analyzing certain metrics. It is meant to be used by group members.  The purpose of the device is to gain insight into what is going on in discussion. It listens to discussions and provides metrics like a timeline of type of statement and measure of emotion level.  It has keywords list that can easily find what you are looking for. It also has timeline control that can mange every topic\\'s discussion time.   The purpose is to help discussion leaders (or teachers) understand the dynamics of their group that they are watching over through a device. This will serve to ease the difficulties of managing large classrooms or groups where there is a small teacher to student ratio. Indivudals are recorded and their key words are detected to better understand the contributing dynamics. The purpose and functionality of the data capture platform is to obtain live data on people as they speak. It captures things such as tone and the words that they say.  The platform is pretty useful for highlighting the most important moments of a discussion. Based on keywords you can have a better experience reviewing the audio of a discussion, such as a lecture. able to capture the necessary information given by a lecturer. based on the ton of voice, the platform is able to take that into account to get information  I think the purpose of this data capture platform is to understand how a group of collaborators discuss and engage. More specifically there is a case by case basis of tone and analytics of the entire discussion to help understand how some groups collaborate.   To record and monitor discussion, also sentiment and content analysis after the discussion The data capture platform is able to recognize patterns and trends in the conversations that are happening during group discussions. I was particularly impressed by the keyword detection mechanism which would help identify the direction of conversations/common topics that come up the platform allows teachers to properly facilitate online collaborative learning. Teachers can use the platform to track discussions, and better direct discussions.  Can automatically generate keywords for chatting, convert voice messages into text messages, and visually display the quiet time The data capture platform allows teachers to get better insight into student discussion. Teachers can see specific parts of the discussion, what keywords are being used, and the tone of the discussion.  Capture keywords discussed in a discussion and make them be useful to review or do some deep analyze. This application provides a summary of what was said in a collaborative discussion environment. For example, it can tell you which person was talking the most, what words were repeated a lot, etc. The purpose of this data capture platform is to capture recordings of conversations in the classroom as the ratio between students and teachers has increased over the years. This makes it so teachers can listen in to these collaboration sessions. The functionality of the platform includes picking up of keywords and showing what is said around it and different qualities of the conversation (like clout or tone). Teachers can\\'t evaluate every groups tone. The data capture platform can indicate how well a group is working together by evaluating the tone of the conversations within groups. It can help students collaborate better in the class. It gives the discussion facilitator several real-time insights into each group. Record discussions and analyze them to extract helpful information to improve learning and collaboration This data collection and display system provides insight to teachers or professors with classes so large, they can\\'t hear the discussions of so many small student groups. So, they have audio capture devices for each group with analytics to identify the key words repeated in discussion, which can be filtered over time, or placed in context of the transcript. As a result, the teacher can get an idea of what students seem to most discuss. Purpose is to provide insight to groups about the types of conversations they are having and what direction the conversations are heading. It does this by having microphones on your device that pickup conversations and analyze it in real-time with their AI. It is a platform that analyzes group discussions. It specifically tracks certain keywords and the direction off discussions to understand how functional discussions are. The purpose and functionality of the data capture platform is to give a discussion facilitator several real-time insights into groups. This platform highlights how some metrics are changing over the short-term of discussions to highlight trends to provide more insight into what is happening within the group.  It was to teach us about how to conduct data capture, and ways to filter out keywords from the video.  The data capture platform was used to track the ebb and flow of a discussion. It tracked when things were said and when there was silence. It also logged key words like \"hate\" to track the emotional tone of the conversation. AI will listen to the conversation and pick out certain keywords. It will allow the instructor to customize and access information on the discussion and break-down the collaboration session into statistics. The data capture platform provides key insight into various metrics that can analyze the group interactivity such as most common keywords, the majority of sound coming from particular direction, or even the content of discussion being classfied. Thus, the data capture platform provides a good idea of how the discussion overall went and what can be done to improve for future sessions. To analyze discussion and give real time metrics of the quality of the discussion. It keeps track of things like keywords, the quality of the voices, and also keeps a transcript of the discussion. The platform records your voice and a transcript of everything that was said. It analyzes things like the tone of your voice to note things like confusion. The transcript will also keep track of key words to help hone in on important topics. This is an interesting tool that can be used to provide feedback on the efficacy of collaboration. This feed back can then be used to inform collaborators on how to communicate more effectively.  The purpose of the video is to propose a new app that is being developed to increase efficiency of listening to lecture. The app transcribes and evaluate the data to help see which parts of the lecture was important. It generate the word from the audio. It provide the information about the works, the tones, score, e.t.c.  I think this data capture platform is a way to monitor the state of a collaboration in real time. It gives the facilitator an indication of what\\'s going well and what\\'s not. The purpose of the platform was to provide teams with a way of monitoring their discussions. For instance by using a microphone the platform is able to capture audio live from the discussion. This audio is then transcribed and reveals useful information that it tracks such as emotional tone, analytical thinking, etc.  The data capture platform allows input from microphones.  This is analyzed for keywords using AI.  It can then be analyzed after a collaboration. Computer Science is an important field to work in. Collaboration in computer science is just as important as communicating in computer science.  The data capture platform can measure the direction of a discussion using audio capture. The data capture platform can generate keyword lists from a discussion. This data capture platform serves to increase the efficiency in collaborative learning. The platform allows users to effectively plan out a meeting in advance and even during the actual collaboration. The purpose of the platform in the video is to provide real-time analytics of a discussion on the platform. Each individual participant is given metrics on their participation time, as well as the qualities of their contribution such as confusion or emotional tone. It visualized the captured data on the platform and able to somehow abstract away the data collecting process. The app gives discussion facilitators real-time insights into student groups which enhances collaboration. You can use Respeakers to start discussions based on key words. I believe the data captured is useful to understand how the team members are communicating with each other. In the case that there is too much negativity or harsh words that are being said in a group, it would be great to quickly understand what is going on and whether everyone in that group is comfortable with that is being said The platform describes seems to primarily be used to record discussions in a group and then allow one to analyze the discussion. Various details can be assessed like searching for keywords, the amount of questions being asked/answered, the amount of silence, etc. The data capture platform captures real time data about the discussion. It can track the frequency of certain words and also track the emotional tone the conversation is moving in. I t was a voice recording tool. it was used to search for keywords in a discussion and attempt to track collaboration.  I understand the intent behind monitoring and classifying group discussion, but I really don’t believe this will be helpful. I imagine that this would just make group mates afraid to interact genuinely and hamper communications instead of aiding them. The purpose of the platform is to make the group work more effectively. And it helps the group members. The data capture platform described in the video aims to give insights (information) about group discussions through the use of Machine Learning. The application records the discussion, and based on given keywords, calculates metrics such as emotional tone, analytic thinking, etc. This app can be used to understand how collaborations/discussions have progressed. The purpose of the platform is to gather audio data from a collaboration to understand the quality of the collaboration. The data can be used to know different aspects that worked well or fell flat (analytical thinking, clout). The data platform provides extremely useful collaboration statistics such as discussion direction.  This ensures that group work time is spent productively and time isn\\'t wasted as much.   The data platform can be used to analyze collaboration sessions and provide feedback on areas of strength and areas of growth. This can allow people participating in the collaboration session to reflect on the session and potential changes. That way they can better grow and improve and have more meaningful sessions in future.  It is a data capture dashboard that performs audio analysis of conversations for educational and work It is supposed to help chemistry students learn. It tracks learning insights.  I am not sure. I watched the video but I was still kind of confused about what the point of it is.  The platform helps with understanding the contents of a discussion, split by discussions, questions, and silence. It allows for discussion moderators to better understand the discussions of groups  It is used to provide instructors with real time insight into each group. It\\'s main overall purpose is to help improve collaboration among students. I can see how this can be potentially useful in measuring real time info. But at the same time, I feel that this increases pressure among teammates The platform monitors discussions in group collaborations and uses machine learning to describe what direction the conversation is going in using keywords. This allows a teacher to see how well the group is performing and what direction their discussion is going in. It also captures the tone of the conversations. The data capture platform described in the video provides results for collaboration among peers, in different segments and in real-time. I definitely find it a little creepy, not sure how I would feel being recorded during a discussion. The data capture platform intends to capture data about the collaboration quality of various members of a collaborating group. It segments data into analyzable sections such as emotional, clout, etc. The purpose of this data is to give teachers clearer insight into the discussions that their students are having, with the directionality of the conversation, the emotional tone, etc. The data capture platform records and transcribes discussions and creates an analysis of the discussion. It tracks keywords, timelines, moods, and other metrics of the discussion. Seem really cool, provides data points about what people are saying and detects keywords, also records how long people are talking for and when they fslk The platform observes a collaborative discussion by listening. It provides data to analyze the discussion in both real-time and post settings. The functionality of the data capture platform shows where the audio of a contribution to collaboration is from, some key words used, and categorizes contributions. The purpose of the data capture platform is to capture the data of collaborative efforts  Capture key words on the dialogue of a session. Figure out points of disagreement. Keep a record of quality of collaboration for evaluation. The goal is to analytically look at how collaboration works.  To do this, the tool looks at a transcript to determine things like keywords and tone and provide a neat summary to whoever might care to look at it. To accurately understand the dynamic of group collaboration.                                                                         The data capture platform is used to listen to conversations. This data will be ysed to analyse collaboration The purpose of this platform is to analyze discussions and use machine learning tools to identify words in discussions that could imply whether collaboration is going well. For instance, the platform identifies words relating to emotional tone and other aspects of collaboration.  It analyzes discussions using machine learning and gives out potential insights about how discussions went. 1. It describes the type of conversation you are having2. it keeps track of the time The platform uses machine learning and records voice transcripts about collaboration. It displays information real time about a groups collaboration and how to better it.. The purpose of the platform is to monitor and provide insights about a discussion. The main functionalities are that it allows you to record and replay your discussion while also giving you different categories that describe the traits of your discussion. The data capture platform serves to provide feedback on the progress of a collaborative discussion. The platform analyzes the audio of the discussion to determine when questions are being asked as well as the tone of the participants throughout the discussion. The platform uses machine learning and information about collaboration to help give a discussion facilitator insight into the collaboration going on within a group. This can be useful for educational purposes, for example between a teacher and groups of students.  You can use the timeline and data collection to track keyword in a discussion. This can be viewed in real time or afterwards The platform would monitor the groups discussion to determine the tone and key aspects of the discussion. These key aspects would determine the environment and quality of the group collaboration. The purpose of this platform is to help deeper engagement and learning among students when it comes to learning. A feature to do this is tracking discussion data (which includes recording, transcript, and duration) to see how effective discussions were and what could be improved to enhance the next discussion meeting The platform collects and records data from the collaboration session and uses it to find patterns and create graphs. The recordings are used to make transcripts for use later. helps students to go back to certain points during the discussion. Provides transcript of what was said.  The purpose and functionality of the data capture platform described in the video is to analyze the audio of conversations recorded by different devices. this device analyzes the discussion of a group of students as it is happening and allows the discussion to be analyzed. it captures the tone and makes note of the topics being discussed and allows easy access to review the discussion The device is used to facilitate discussion in a classroom. It can transcript and add data in real time. The data capture platform wants to aid the process of collaborative learning. It is a tool to help track collaboration for chemistry students. It provides real time collaboration data. IdkIdkIdkIdkIdkIdkIdkIdkIdkIdkIdkIdkIdkIdkIdkIdkIdkIdkIdkIdkIdkIdkIdkIdkIdkIdkIdkIdkIdkIdkIdkIdkIdkIdkIdkIdkIdkIdkIdkIdkIdkIdkIdkIdkIdkIdk I think that it used to look in detail into the conversation being help within a team by classifying emotions that may be held in the transcription of the conversation. People\\'s audio can be hooked up to the device in order to capture each person in the conversation to the best ability.  Basically you set it up to listen to your conversations and it analyzes them for tone, keywords, and creates a transcript of the conversation.  The purpose and functionality of the data capture platform described in the video is to analyze conversations and the direction that they were taken through a audio capturing device. This has the great ability of understanding how conversations are trending but might feel intrusive for learning purposes. It helps people analyze a discussion after it takes place. It can tell you about where the speaking came from and what kind of thinking/speaking was taking place. The data capture platform is used to give discussion facilitator real time insights into the interactions and collaboration within each group. The platform allows the users to enter a list of keywords that the app listens for during each discussion.  The purpose the platform is to provide facilitators with intimate information on how a discussion went. It functions as a recording device and an analyzer of words used, tone, and how much of a conversation was productive vs not amongst other tools. It allows discussion facillitators to view real-time data about the collaboration. It analyzes the words used in the discussion to determine how positive or negative the discussion was. It is a useful tool used to measure collaboration. There are keyword trackers and categorization that allows the user to see data about their collaboration session. Keeping track of a group discussion. Tracking how the discussion changes, who is talking, etc. It would try to gauge how much collaboration there is by viewing the types of messages being sent from people in the group. For educators/facilitators to improve collaboration quality in participants over time It captures how the groups communicate over a channel via microphones. Using this it measures moments of deep discussion and silence, while also measuring the emotional sentiment of the words used during thee discussion To understand the flow of conversation in collaboration and to highlight key points being discussed  The platform captured data on group discussions and created a live transcript of what was being said. Then, AI was used to highlight how that discussion was going based on an analysis of what was said. This was meant to provide feedback on the quality and amount of discussion. Given discussion facilitator real time insights into each group\\'s collaboration but they are using machine learning  The purpose of the data capture platform is to gather information on group discussions and collaboration. The data capture platform provides functionality like keyword tracking and directional audio detection. The data capture platform is used to monitor collaboration meetings to highlight metrics that occur during the meeting using machine learning. This tool does not offer any insights but only highlights key metrics this platform can help us review what we have done on the class and get an idea of how everyone feels This device captures data about audio coming from different directions during a discussion. It creates transcripts of what was said during the discussion, that can be reviewed at a later time to revisit critical points. It also measures the amount of participation from each direction to monitor who is and isn\\'t contributing to the same extent. The data captured shows whether or not key topics were discussed by tracking key words. Also, you can see which direction the audio came from to see if a certain group of people were not participating To gather different keywords about the capture and transcripts and also the gather different metrics that will be helpful in evaluating the group collaboration They allow the capture of transcripts which then show different areas that were discussed.  Blinc seems like a great tool for in class learning. By pinging the direction of the speaker and tracking that data, one gets a better idea of how much they are speaking. The purpose of the platform is to enhance collaboration. It has many features to help keep track of how the collaboration is going in real time, including a timeline, a dashboard to show when discussions are happening vs when it is silent, and a dashboard that keeps track of the direction of the conversation. The data capture platform listens and records multiple recording devices while in discussion and then analyzes the conversation through word choice, tone, and other factors to determine how positive or negative of an experience it was. To determine how effective group discussions and collaboration sessions are. This is by keeping track of a number of factors such as how time is being allocated in sessions and what exactly is being said The purpose is to better track and understand online collaboration. It picks up audio and analyzes the key words to categorize them. The purpose of the data capture platform described in the video is to provide data about how a group collaboration went. In particular, the platform produces easily digestible graphs and charts to see the kinds of topics and discussions a group is having during their collaboration. A platform that monitors the conversation of the group throughout meetings to allow for closer monitoring of a groups interactions Purpose to me seems to get more data around the way the discussion has been going on in the class. This should help with collaboration somehow. It\\'s a system whose purpose is improve collaborations. It uses recordings of discussions to analyze what can be improved. The data capture platform can be used to analyze group meetings. It analyzes the periods of silence and discussion to see how efficient meetings are, and analyzes emotions to tell groups whether their discussions are positive or negative. The data capture platform described in the video would help people better understand how discussions that they are part of work on a deeper level. From key words to general trends within the discussion, it is a data-collection app to help better understand how to improve collaborations. The data capture platform focused around collaboration. It measure chemistry students and their levels of collaboration.  The purpose of the data capture platform is to take conversation and analyzing the quality. This could be useful in making sure discussions have higher quality The data capture platform was used to record and give metric on collaboration. The data capture platform would do this with a given array of 6 microphones and keywords. When the data capture platform was given these inputs and devices it would then provide a collaboration metric of which areas of the room had said more and what they discussed. Recording voice analysis birth voice data, including intonation, emotion, etc. The data capture platform in the video has a purpose of analyzing collaboration in a particular project. The data capture platform records discussions and captures real time statistics about the discussion. This data can be sued to better fine-tine the collaborative learning experience. Please provide 2-3 sentences about the purpose and functionality of the data capture platform described in the video. It is good. It provides a lot of data it is good. I never used such a dashboard. The data capture platform seems useful to track the collaboration in live time. With the keyword tracking and recording, it would be easier to figure out what the team discussed, etc..  EDC software is an electronic data capture solution that lets surveyors, clinical researchers, and other field teams collect data via electronic forms. It streamlines data management and helps replace traditional paper-based forms. The purpose of this platform is record parts of the collaboration and analyze them. You can see the transcript of the collaboration, see the direction of the discussion, and the tone.  To get more info on participation. This can help with collaborations because you\\'ll know what to improve on. There is a better visibility of discussions. There is a better visibility of discussions. There is a better visibility of discussions. There is a better visibility of discussions. There is a better visibility of discussions. Data captured in real-time can be seen on the dashboard. On the dashboard we can see keywords and distribution of data etc.  The platform described in the video provides many useful characteristics. The ability to use keywords can definitely better increase understanding of the discussion content. Platform is for analysing discussing. Also, it aims for helping communication.  Used to collaborate with people effectively. To ease out the process of communication and collaborations.  I watched the video but I am still confused about the functionality and necessity of this platform I have used a similar application called otter.ai. Bascially, it keeps a record of all your meetings with transcripts and you can make notes from them which can be shared with the class This is for us to discuss the problem. This is designed for us to evaluate oursleves in the process of discussion The purpose of the data capture platform is to gain data during collaborative learning. This data will then be used to find ways to improve learning.  \\'- The data capture platform allows people to check the quality of the collaboration - It allows us to asses the direction the discussion is going in - It allows us to judge the quality of the conversation It is supposed to help with collaboration. It analyzes emotional tone, analytic thinking, clout, authenticity, confusion. improve collaboration and learning;  Effectively record points of view during discussions and collaborations, which can be used to facilitate communication and better collaboration. It is supposed to analyze different expressions within discussions. It can pick up on emotions and/or the tones that are going on in the discussion. The purpose and functionality of the data capture platform described in the video is to evaluate group discussions, and understand and classify the content. It\\'s a discussion facilitator that is like data visualization, which can help on research, group works. It can record real-time discussion, at the same time, abstract keywords from real-time discussion. In addition, it can analyze discussion datas by using machine learning tools.  The data capture platform described in the video relies on audio recording of participant interaction. Using this recording, it presents a transcript and data regarding the collaborator discussion. The data capture platform uses machine learning to analyze conversations in real time. There are several metrics that are created for analysis, including a transcription of what was said, data diagrams, and measures such as emotional tone and analytic thinking.  It is a platform that allows educators to monitor discussions. Some functionalities include transcripting conversation and evaluating tone. If I am not mistaken, the purpose of the platform is for people such as teachers to track different group discussions in larger settings where it would be difficult to otherwise. report real time data from collaborative meetings.analyze emotions through transcription.use data to improve collaboration. The purpose of the data capture platform described in the video is to be able to monitor the quality of collaborations. By analyzing the discussions taking place, the software can provide insights on to how well the group is working together and how it can be improved. To provide an audio transcript of the discussion. To capture and illustrate keywords covered in the discussion, to provide analytics such as tone and emotion of the discussion Keywords can be extracted for topic extraction.  You can select different time periods to view information for that time period.  User behavior can be analyzed. Extracting information from paper or electronic documents. Converting information into data for key systems. This platform is used to track the discussion information given a user-defined timeline. The discussion information contains communication intensity, captured keyword and tone analysis. These information helps people to evaluate their discussion from a statistical perspective. To track how the discussion progresses using features such as emotional tone and confusion. The data is captured using words from the discussion transcript. The data of cooperation can help us to improve ourselves to some extent, the data is presented in a very novel way, Real-time monitoring combined with Deep Learning makes for an exciting experience It\\'s a tool to record the collaboration. The audio data for each device are recorded and analysed.   The platform analyzes several metrics of a discussion to provide real time feedback.  It seems like the tool captures real time data on communication while collaboration is occuring. It records the users and identifies emotionality, highlights keywords etc. The purpose of the platform is to capture and analyze audio from group discussions. From the audio it detects keywords and direction in order to inform on metrics such as emotional tone of the discussion. This capture platform can generate the talking transcript. And it can analyze the emotions of people\" talking transcript. The platform is meant to provide feedback about conversations had in an educational setting. It tracks what is said during the discussions and record things like the emotions be used. The data capture platform is very useful to learn about collaboration. It helps to better understand people\\'s opinions. The purpose is to monitor group activity and analyze the data that\\'s captured. Part of what that entails is assessing the language used to gauge who\\'s speaking and what the general tone of the session is.  The purpose of the data capture platform is to tag and categorize the words the appear during class discussions. It also recorded the direction of the sounds and scored the tone of the discussion. In addition, it provided a breakdown of time spent in silence, and time reserved for questions and discussion.  Seems to be an app that will record collaborative discussion and record the conversation, highlighting key words. You can see data from each speaker, as well as data from specific time frames. You can also see a full audio transcript as well as also get a rating of the speaker\\'s tone The platform is used to track each team member\\'s contribution within a group discussion. In addition, it prevents group member from being off-topic. The purpose is to evaluate contribution and keep the discussion on the right track. It records your discussion, labeling times where there was a lot of discussion or questions posed. It also provides an evolution of analytical, emotion, clout, etc. quality of the session. The platform provides a way for discussion facilitators/teachers to capture insights from student discussions, especially in large classrooms. facilitators can track specific keywords or even identify the time breakdown of the discussions (questions vs. silence). The data platform will capture different collaboration indicators and evaluate the quality of collaboration analyzes the audio of the discussion and provides an analysis based on key words It\\'s purpose is to analyze classroom discussions and summarize key aspects of it. Some of these aspects include key terms and where the discussion is physically most active. The platform captures audio from collaboration meetings and uses sentiment analysis to give real-time updates on how collaborators are doing. This allows teams to respond quickly to undesirable forms of communication. The purpose of the platform is to get collaboration data in real time. It has various functions such as being able to show the emotionality of the things being said as well as keywords that come up in the discussion. BLINC is used to encourage collaboration. This is important so we can learn how we work best. The platform gives quantitative ways of doing this. Aiding in providing information on collaborative affairs (especially within the classroom) through a data-driven approach The platform facilitates discussion sections in classes. It helps Professors and students to better engage and analyze the content of the discussions. I understand how this information might be useful for supporting learning but I am concerned about how I could be represented by data. It gives insight on collaboration and group dynamics. It displays analytics  The purpose is to provide instructors with real time metrics to track how in class discussions are going. Metrics include things like the emotional tone of the discussion, keywords, etc. so the instructor can verify that discussions are going as planned without being present for all of them. The data capture platform is very useful for monitoring the collaboration of members in different teams. One can also keep a track of the work done by different members of the team through that platform. The data capture platform uses words and audio to analyse collaboration in a team The data capture platform could analyze content in different adjustable sections. It can also show critical parts below for visualization and detailed analyzed for pre-set sections.'"
            ],
            "application/vnd.google.colaboratory.intrinsic+json": {
              "type": "string"
            }
          },
          "metadata": {},
          "execution_count": 12
        }
      ]
    },
    {
      "cell_type": "code",
      "source": [
        "doc = nlp(all_text)"
      ],
      "metadata": {
        "id": "bHs7MdW_hIz8"
      },
      "execution_count": 6,
      "outputs": []
    },
    {
      "cell_type": "code",
      "source": [
        "from collections import Counter\n",
        "\n",
        "words = [token.lemma_ for token in doc if not token.is_stop and not token.is_punct] \n",
        "word_freq = Counter(words) \n",
        "word_freq.most_common(30)"
      ],
      "metadata": {
        "colab": {
          "base_uri": "https://localhost:8080/"
        },
        "id": "xRxySmK9ha4t",
        "outputId": "e9db3708-b899-4110-eb8f-d52dfc2042e2"
      },
      "execution_count": 7,
      "outputs": [
        {
          "output_type": "execute_result",
          "data": {
            "text/plain": [
              "[('discussion', 180),\n",
              " ('platform', 127),\n",
              " ('datum', 109),\n",
              " ('capture', 102),\n",
              " ('collaboration', 91),\n",
              " ('group', 73),\n",
              " ('time', 55),\n",
              " ('analyze', 52),\n",
              " ('purpose', 52),\n",
              " (' ', 50),\n",
              " ('provide', 48),\n",
              " ('conversation', 45),\n",
              " ('tone', 42),\n",
              " ('keyword', 42),\n",
              " ('track', 38),\n",
              " ('real', 35),\n",
              " ('record', 35),\n",
              " ('audio', 30),\n",
              " ('allow', 30),\n",
              " ('help', 30),\n",
              " ('word', 28),\n",
              " ('transcript', 27),\n",
              " ('insight', 26),\n",
              " ('understand', 25),\n",
              " ('data', 24),\n",
              " ('learning', 23),\n",
              " ('key', 23),\n",
              " ('video', 22),\n",
              " ('student', 22),\n",
              " ('information', 22)]"
            ]
          },
          "metadata": {},
          "execution_count": 7
        }
      ]
    },
    {
      "cell_type": "code",
      "source": [
        "# QUESTION 19 ANALYSIS\n",
        "# Please provide 2-3 sentences about the purpose and functionality of the data capture platform described in the video.\n",
        "\n",
        "from spacy.matcher import Matcher \n",
        "matcher = Matcher(nlp.vocab) \n",
        "pattern = [{'POS':'ADJ'}, {'POS':'NOUN'}] \n",
        "pattern1 = [{'POS':'NOUN'}, {\"POS\": \"DET\", \"OP\" : \"*\"},{'POS':'NOUN'}]\n",
        "pattern2 = [{'POS':'VERB'}, {\"POS\": \"DET\", \"OP\" : \"*\"},{'POS':'NOUN'}]\n",
        "pattern3 = [{'POS':'VERB'}, {\"POS\": \"ADP\", \"OP\" : \"*\"},{\"POS\": \"DET\", \"OP\" : \"*\"},{'POS':'NOUN'}]  \n",
        "matcher.add('ADJ_PHRASE', [pattern]) \n",
        "matcher.add('ADJ_PHRASE', [pattern1])\n",
        "matcher.add('VRB_PHRASE', [pattern2]) \n",
        "matcher.add('VRB_PHRASE', [pattern3]) \n",
        "matches = matcher(doc, as_spans=True) \n",
        "phrases = [] \n",
        "for span in matches:\n",
        "    phrases.append(span.text.lower())\n",
        "\n",
        "phrase_freq = Counter(phrases)\n",
        "phrase_freq.most_common(100)"
      ],
      "metadata": {
        "colab": {
          "base_uri": "https://localhost:8080/"
        },
        "id": "C4rduaZdheEV",
        "outputId": "d906a75f-61ba-4d90-baf3-e5ace9a22764"
      },
      "execution_count": 8,
      "outputs": [
        {
          "output_type": "execute_result",
          "data": {
            "text/plain": [
              "[('capture platform', 65),\n",
              " ('data capture', 52),\n",
              " ('real time', 20),\n",
              " ('described in the video', 14),\n",
              " ('key words', 13),\n",
              " ('emotional tone', 12),\n",
              " ('machine learning', 10),\n",
              " ('group discussions', 10),\n",
              " ('collaborative learning', 7),\n",
              " ('time insights', 6),\n",
              " ('discussion facilitator', 6),\n",
              " ('using machine', 5),\n",
              " ('group collaboration', 5),\n",
              " ('provide feedback', 5),\n",
              " ('better visibility', 5),\n",
              " ('supporting learning', 4),\n",
              " ('keeps track', 4),\n",
              " ('collaborative discussion', 4),\n",
              " ('collaboration session', 4),\n",
              " ('time data', 4),\n",
              " ('improve collaboration', 4),\n",
              " ('uses machine', 4),\n",
              " ('provides data', 3),\n",
              " ('platform records', 3),\n",
              " ('track collaboration', 3),\n",
              " ('collaboration quality', 3),\n",
              " ('gives the discussion', 3),\n",
              " ('collaboration sessions', 3),\n",
              " ('group discussion', 3),\n",
              " ('analytic thinking', 3),\n",
              " ('data platform', 3),\n",
              " ('chemistry students', 3),\n",
              " ('key aspects', 3),\n",
              " ('time statistics', 2),\n",
              " ('allows users', 2),\n",
              " ('group collaborations', 2),\n",
              " ('creates a transcript', 2),\n",
              " ('time monitoring', 2),\n",
              " ('records discussions', 2),\n",
              " ('allows groups', 2),\n",
              " ('online dashboard', 2),\n",
              " ('group dynamics', 2),\n",
              " ('group members', 2),\n",
              " ('large classrooms', 2),\n",
              " ('allows teachers', 2),\n",
              " ('record discussions', 2),\n",
              " ('data collection', 2),\n",
              " ('student groups', 2),\n",
              " ('audio capture', 2),\n",
              " ('get an idea', 2),\n",
              " ('certain keywords', 2),\n",
              " ('give a discussion', 2),\n",
              " ('analyze discussion', 2),\n",
              " ('time metrics', 2),\n",
              " ('keep track', 2),\n",
              " ('analytical thinking', 2),\n",
              " ('computer science', 2),\n",
              " ('captured data', 2),\n",
              " ('discussion facilitators', 2),\n",
              " ('analyze the discussion', 2),\n",
              " ('audio data', 2),\n",
              " ('watched the video', 2),\n",
              " ('provide instructors', 2),\n",
              " ('same time', 2),\n",
              " ('captures the tone', 2),\n",
              " ('detects keywords', 2),\n",
              " ('learning tools', 2),\n",
              " ('provide insights', 2),\n",
              " ('analyzes the audio', 2),\n",
              " ('collaboration data', 2),\n",
              " ('analyze conversations', 2),\n",
              " ('helps people', 2),\n",
              " ('taking place', 2),\n",
              " ('see data', 2),\n",
              " ('keeping track', 2),\n",
              " ('keyword tracking', 2),\n",
              " ('collaboration meetings', 2),\n",
              " ('help with collaboration', 2),\n",
              " ('improve collaborations', 2),\n",
              " ('time discussion', 2),\n",
              " ('several metrics', 2),\n",
              " ('audio transcript', 2),\n",
              " ('discussion information', 2),\n",
              " ('talking transcript', 2),\n",
              " ('class discussions', 2),\n",
              " ('primary benefit', 1),\n",
              " ('retrieving a transcript', 1),\n",
              " ('collaborative conversation', 1),\n",
              " ('records the conversation', 1),\n",
              " ('conversation transcript', 1),\n",
              " ('data insights', 1),\n",
              " ('different speakers', 1),\n",
              " ('learning groups', 1),\n",
              " ('data analysis', 1),\n",
              " ('analysis toolkit', 1),\n",
              " ('collecting conversation', 1),\n",
              " ('uses a respeaker', 1),\n",
              " ('take input', 1),\n",
              " ('audio input', 1),\n",
              " ('determines trends', 1)]"
            ]
          },
          "metadata": {},
          "execution_count": 8
        }
      ]
    },
    {
      "cell_type": "code",
      "source": [
        "#QUESTION 20 ANALYSIS\n",
        "# I understand how this information might be useful for supporting learning.\n",
        "\n",
        "df.Q20.value_counts()"
      ],
      "metadata": {
        "colab": {
          "base_uri": "https://localhost:8080/"
        },
        "id": "1Os3w6m0tcYH",
        "outputId": "aebb82dc-a69c-41ad-9efa-0311e53a3145"
      },
      "execution_count": 4,
      "outputs": [
        {
          "output_type": "execute_result",
          "data": {
            "text/plain": [
              "Agree                121\n",
              "Neutral               46\n",
              "Strongly agree        27\n",
              "Disagree              11\n",
              "Strongly disagree      9\n",
              "Name: Q20, dtype: int64"
            ]
          },
          "metadata": {},
          "execution_count": 4
        }
      ]
    },
    {
      "cell_type": "code",
      "source": [
        "#QUESTION 21 ANALYSIS\n",
        "#I am concerned about how I could be represented by the data.\n",
        "\n",
        "df.Q21.value_counts()"
      ],
      "metadata": {
        "colab": {
          "base_uri": "https://localhost:8080/"
        },
        "id": "0RiMBEm_vWfa",
        "outputId": "d6917f92-f10e-4a2d-fc2f-06515897a828"
      },
      "execution_count": 18,
      "outputs": [
        {
          "output_type": "execute_result",
          "data": {
            "text/plain": [
              "Agree                89\n",
              "Neutral              61\n",
              "Strongly agree       37\n",
              "Disagree             19\n",
              "Strongly disagree     8\n",
              "Name: Q21, dtype: int64"
            ]
          },
          "metadata": {},
          "execution_count": 18
        }
      ]
    },
    {
      "cell_type": "code",
      "source": [
        "#QUESTION 22 ANALYSIS\n",
        "# If you have any comments about how this data might be used, please provide them here\n",
        "\n",
        "all_text_22 = df.Q22.str.cat(sep = ' ')\n",
        "doc_22 = nlp(all_text_22)\n",
        "\n",
        "words = [token.lemma_ for token in doc_22 if not token.is_stop and not token.is_punct] \n",
        "word_freq = Counter(words) \n",
        "word_freq.most_common(30)"
      ],
      "metadata": {
        "colab": {
          "base_uri": "https://localhost:8080/"
        },
        "id": "I06KcDV06wAr",
        "outputId": "4a5446bf-60b7-44b6-afc3-e3f9eb618cf3"
      },
      "execution_count": 9,
      "outputs": [
        {
          "output_type": "execute_result",
          "data": {
            "text/plain": [
              "[('datum', 15),\n",
              " ('people', 10),\n",
              " ('think', 9),\n",
              " ('like', 8),\n",
              " ('discussion', 7),\n",
              " ('collaboration', 7),\n",
              " (' ', 6),\n",
              " ('student', 6),\n",
              " ('concerned', 5),\n",
              " ('privacy', 5),\n",
              " ('data', 4),\n",
              " ('wonder', 4),\n",
              " ('analysis', 4),\n",
              " ('speak', 4),\n",
              " ('know', 4),\n",
              " ('record', 4),\n",
              " ('lot', 4),\n",
              " ('group', 4),\n",
              " ('sure', 4),\n",
              " ('tool', 4),\n",
              " ('big', 4),\n",
              " ('problem', 4),\n",
              " ('good', 4),\n",
              " ('user', 3),\n",
              " ('contribution', 3),\n",
              " ('transcript', 3),\n",
              " ('work', 3),\n",
              " ('etc', 3),\n",
              " ('track', 3),\n",
              " ('online', 3)]"
            ]
          },
          "metadata": {},
          "execution_count": 9
        }
      ]
    },
    {
      "cell_type": "code",
      "source": [
        "#QUESTION 22 ANALYSIS\n",
        "# If you have any comments about how this data might be used, please provide them here\n",
        "\n",
        "matcher = Matcher(nlp.vocab) \n",
        "#pattern = [{'POS':'ADJ'}, {'POS':'NOUN'}] \n",
        "# pattern1 = [{'POS':'NOUN'}, {\"POS\": \"DET\", \"OP\" : \"*\"},{'POS':'NOUN'}]\n",
        "# pattern2 = [{'POS':'VERB'}, {\"POS\": \"DET\", \"OP\" : \"*\"},{'POS':'NOUN'}]\n",
        "# pattern3 = [{'POS':'VERB'}, {\"POS\": \"ADP\", \"OP\" : \"*\"},{\"POS\": \"DET\", \"OP\" : \"*\"},{'POS':'NOUN'}]  \n",
        "pattern4 = [{'POS':'NOUN'}, {\"POS\": \"AUX\", \"OP\" : \"*\"},{\"POS\": \"ADP\", \"OP\" : \"*\"},{\"POS\": \"DET\", \"OP\" : \"*\"},{'POS':'VERB'}]  \n",
        "pattern6 = [{'POS':'NOUN'}, {'POS':'NOUN'},{\"POS\": \"AUX\", \"OP\" : \"*\"},{\"POS\": \"ADP\", \"OP\" : \"*\"},{\"POS\": \"DET\", \"OP\" : \"*\"},{'POS':'VERB'}]\n",
        "#matcher.add('ADJ_PHRASE', [pattern]) \n",
        "# matcher.add('ADJ_PHRASE', [pattern1])\n",
        "# matcher.add('VRB_PHRASE', [pattern2]) \n",
        "# matcher.add('VRB_PHRASE', [pattern3])\n",
        "matcher.add('RULE1',[pattern4])\n",
        "matcher.add('RULE2',[pattern6]) \n",
        "matches = matcher(doc_22, as_spans=True) \n",
        "phrases = [] \n",
        "for span in matches:\n",
        "    phrases.append(span.text.lower())\n",
        "    \n",
        "phrase_freq = Counter(phrases)\n",
        "phrase_freq.most_common(100)"
      ],
      "metadata": {
        "colab": {
          "base_uri": "https://localhost:8080/"
        },
        "id": "PasXHrgaztJz",
        "outputId": "4256b0a1-1b4d-4c6a-d278-6fe9bb3552de"
      },
      "execution_count": 11,
      "outputs": [
        {
          "output_type": "execute_result",
          "data": {
            "text/plain": [
              "[('data is collected', 1),\n",
              " ('microphone array placed', 1),\n",
              " ('array placed', 1),\n",
              " ('users are located', 1),\n",
              " ('sentiment analysis is being done', 1),\n",
              " ('analysis is being done', 1),\n",
              " ('discussions may involve', 1),\n",
              " ('data recording may discourage', 1),\n",
              " ('recording may discourage', 1),\n",
              " ('people from participating', 1),\n",
              " ('data may be exploited', 1),\n",
              " ('discussions tracked', 1),\n",
              " ('technology may be biased', 1),\n",
              " ('collaboration plays', 1),\n",
              " ('people want', 1),\n",
              " ('product solves', 1),\n",
              " ('data is needed', 1),\n",
              " ('privacy by converting', 1),\n",
              " ('people can differ', 1),\n",
              " ('training data used', 1),\n",
              " ('data used', 1),\n",
              " ('money would be passed', 1),\n",
              " ('data might be used', 1),\n",
              " ('capture platform described', 1),\n",
              " ('platform described', 1),\n",
              " ('group is doing', 1),\n",
              " ('job collaborating', 1),\n",
              " ('information would be used', 1),\n",
              " ('data be shared', 1),\n",
              " ('idea of having', 1),\n",
              " ('conversation turned', 1),\n",
              " ('students use', 1),\n",
              " ('student choice surrounding', 1),\n",
              " ('choice surrounding', 1),\n",
              " ('tone can be biased', 1),\n",
              " ('tool can analyze', 1),\n",
              " ('data being stored', 1),\n",
              " ('student conversations are recorded', 1),\n",
              " ('conversations are recorded', 1),\n",
              " ('students may speak', 1),\n",
              " ('discussions students mention', 1),\n",
              " ('students mention', 1),\n",
              " ('tool will work', 1),\n",
              " ('people collaborate', 1)]"
            ]
          },
          "metadata": {},
          "execution_count": 11
        }
      ]
    },
    {
      "cell_type": "code",
      "source": [
        "#QUESTION 24 ANALYSIS\n",
        "# I find that the device invades my privacy if used during classes.\n",
        "\n",
        "df.Q24.value_counts()\n"
      ],
      "metadata": {
        "colab": {
          "base_uri": "https://localhost:8080/"
        },
        "id": "tX_dlCLfFQo3",
        "outputId": "72d39ead-937d-4e88-a9d8-9fcff4aae4c4"
      },
      "execution_count": 17,
      "outputs": [
        {
          "output_type": "execute_result",
          "data": {
            "text/plain": [
              "Neutral              79\n",
              "Agree                56\n",
              "Disagree             41\n",
              "Strongly agree       32\n",
              "Strongly disagree     6\n",
              "Name: Q24, dtype: int64"
            ]
          },
          "metadata": {},
          "execution_count": 17
        }
      ]
    },
    {
      "cell_type": "code",
      "source": [
        "#QUESTION 46 ANALYSIS\n",
        "# I find that the device invades my privacy if used during out of class group discussions.\n",
        "\n",
        "df.Q46.value_counts()"
      ],
      "metadata": {
        "colab": {
          "base_uri": "https://localhost:8080/"
        },
        "id": "TXSOpKbmzqiR",
        "outputId": "8257faa6-51a4-430a-8725-771a20950082"
      },
      "execution_count": 24,
      "outputs": [
        {
          "output_type": "execute_result",
          "data": {
            "text/plain": [
              "Agree                85\n",
              "Strongly agree       66\n",
              "Neutral              41\n",
              "Disagree             18\n",
              "Strongly disagree     4\n",
              "Name: Q46, dtype: int64"
            ]
          },
          "metadata": {},
          "execution_count": 24
        }
      ]
    },
    {
      "cell_type": "code",
      "source": [
        "#QUESTION 25 ANALYSIS\n",
        "# Compared to a Google Home or Amazon Echo, this device seems more invasive or intrusive.\n",
        "\n",
        "df.Q25.value_counts()"
      ],
      "metadata": {
        "colab": {
          "base_uri": "https://localhost:8080/"
        },
        "id": "gsdlQhfKGZg3",
        "outputId": "316d7188-11f9-4260-a17b-e3db74b34738"
      },
      "execution_count": 19,
      "outputs": [
        {
          "output_type": "execute_result",
          "data": {
            "text/plain": [
              "Neutral              72\n",
              "Agree                65\n",
              "Disagree             51\n",
              "Strongly agree       19\n",
              "Strongly disagree     6\n",
              "Name: Q25, dtype: int64"
            ]
          },
          "metadata": {},
          "execution_count": 19
        }
      ]
    },
    {
      "cell_type": "code",
      "source": [
        "#QUESTION 26 ANALYSIS\n",
        "# I'd rather not have a piece of technology actively recording me in class\n",
        "df.Q26.value_counts()"
      ],
      "metadata": {
        "colab": {
          "base_uri": "https://localhost:8080/"
        },
        "id": "mUuLQ-xKIQxp",
        "outputId": "31b6c89f-047d-4639-81be-7950fda3a695"
      },
      "execution_count": 20,
      "outputs": [
        {
          "output_type": "execute_result",
          "data": {
            "text/plain": [
              "Neutral              73\n",
              "Agree                73\n",
              "Strongly agree       47\n",
              "Disagree             18\n",
              "Strongly disagree     3\n",
              "Name: Q26, dtype: int64"
            ]
          },
          "metadata": {},
          "execution_count": 20
        }
      ]
    },
    {
      "cell_type": "code",
      "source": [
        "#QUESTION 27 ANALYSIS\n",
        "# I would prefer to have a device that offers more interactivity (i.e., answering questions, \n",
        "# providing a visualization for the students).\n",
        "\n",
        "df.Q27.value_counts()"
      ],
      "metadata": {
        "colab": {
          "base_uri": "https://localhost:8080/"
        },
        "id": "1O3r_UdWIhuK",
        "outputId": "c1e27a92-d985-4eca-83dc-0ce65054c304"
      },
      "execution_count": 21,
      "outputs": [
        {
          "output_type": "execute_result",
          "data": {
            "text/plain": [
              "No     155\n",
              "Yes     59\n",
              "Name: Q27, dtype: int64"
            ]
          },
          "metadata": {},
          "execution_count": 21
        }
      ]
    },
    {
      "cell_type": "code",
      "source": [
        "# QUESTION 29 ANALYSIS\n",
        "# I would be okay with having a camera also capturing video while I participate in group discussions.\n",
        "\n",
        "df.Q29.value_counts()"
      ],
      "metadata": {
        "colab": {
          "base_uri": "https://localhost:8080/"
        },
        "id": "j2tzHT4yI_FH",
        "outputId": "c7acdd92-efe0-402a-b863-f035412b5c8e"
      },
      "execution_count": 22,
      "outputs": [
        {
          "output_type": "execute_result",
          "data": {
            "text/plain": [
              "No       93\n",
              "Maybe    88\n",
              "Yes      33\n",
              "Name: Q29, dtype: int64"
            ]
          },
          "metadata": {},
          "execution_count": 22
        }
      ]
    },
    {
      "cell_type": "code",
      "source": [
        "complete_text = ('maybe time')\n",
        "complete_doc = nlp(complete_text)\n",
        "for token in complete_doc:\n",
        "     print (token, token.tag_, token.pos_, spacy.explain(token.tag_))"
      ],
      "metadata": {
        "colab": {
          "base_uri": "https://localhost:8080/"
        },
        "id": "_KMzBnX8GWzN",
        "outputId": "49f4e0a5-2ec4-4b54-994d-d5a9bd6da684"
      },
      "execution_count": 25,
      "outputs": [
        {
          "output_type": "stream",
          "name": "stdout",
          "text": [
            "maybe RB ADV adverb\n",
            "time NN NOUN noun, singular or mass\n"
          ]
        }
      ]
    }
  ]
}