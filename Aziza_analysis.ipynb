{
  "nbformat": 4,
  "nbformat_minor": 0,
  "metadata": {
    "colab": {
      "provenance": [],
      "collapsed_sections": [
        "Cpk2-zIkjidp",
        "enR4Hxkj9og_",
        "Gzn8IE9vGjhC"
      ]
    },
    "kernelspec": {
      "name": "python3",
      "display_name": "Python 3"
    },
    "language_info": {
      "name": "python"
    }
  },
  "cells": [
    {
      "cell_type": "code",
      "execution_count": 63,
      "metadata": {
        "id": "I4bu-RdeOl6O",
        "colab": {
          "base_uri": "https://localhost:8080/"
        },
        "outputId": "d322dbd7-37a1-4b9c-ec10-6a5c49520eec"
      },
      "outputs": [
        {
          "output_type": "stream",
          "name": "stderr",
          "text": [
            "[nltk_data] Downloading package stopwords to /root/nltk_data...\n",
            "[nltk_data]   Package stopwords is already up-to-date!\n"
          ]
        }
      ],
      "source": [
        "import pandas as pd\n",
        "import spacy\n",
        "nlp = spacy.load(\"en_core_web_sm\")\n",
        "from collections import Counter\n",
        "# nlp.max_length = 1850000\n",
        "import seaborn as sns\n",
        "import matplotlib.pyplot as plt\n",
        "import gensim\n",
        "from nltk.corpus import stopwords\n",
        "nltk.download('stopwords')\n",
        "stopwords = stopwords.words('english')\n",
        "from textblob import TextBlob\n",
        "from sklearn.pipeline import make_pipeline"
      ]
    },
    {
      "cell_type": "code",
      "source": [
        "df = pd.read_csv(\"/content/privacy_data_analysis.csv\")"
      ],
      "metadata": {
        "id": "IorEwC1KVxEf"
      },
      "execution_count": null,
      "outputs": []
    },
    {
      "cell_type": "code",
      "source": [
        "df.info()"
      ],
      "metadata": {
        "id": "ZJGjBZzdZjNf"
      },
      "execution_count": null,
      "outputs": []
    },
    {
      "cell_type": "markdown",
      "source": [
        "## **Pattern Matching**"
      ],
      "metadata": {
        "id": "Cpk2-zIkjidp"
      }
    },
    {
      "cell_type": "code",
      "source": [
        "df.Q19[0]"
      ],
      "metadata": {
        "id": "FQmhDPCAU-hi"
      },
      "execution_count": null,
      "outputs": []
    },
    {
      "cell_type": "code",
      "source": [
        "all_text = df.Q19.str.cat(sep = ' ')\n",
        "doc = nlp(all_text)"
      ],
      "metadata": {
        "id": "Eem2NVNKYPni"
      },
      "execution_count": null,
      "outputs": []
    },
    {
      "cell_type": "code",
      "source": [
        "words = [token.lemma_ for token in doc if not token.is_stop and not token.is_punct] \n",
        "word_freq = Counter(words) \n",
        "word_freq.most_common(30)"
      ],
      "metadata": {
        "id": "bCs_1OqYEBq3"
      },
      "execution_count": null,
      "outputs": []
    },
    {
      "cell_type": "code",
      "source": [
        "from spacy.matcher import Matcher \n",
        "matcher = Matcher(nlp.vocab) \n",
        "pattern = [{'POS':'ADJ'}, {'POS':'NOUN'}] \n",
        "matcher.add('ADJ_PHRASE', [pattern]) \n",
        "matches = matcher(doc, as_spans=True) \n",
        "phrases = [] \n",
        "for span in matches:\n",
        "    phrases.append(span.text.lower())\n",
        "    phrase_freq = Counter(phrases)\n",
        "phrase_freq.most_common(30)"
      ],
      "metadata": {
        "id": "RLJHBuOBYQ_j"
      },
      "execution_count": null,
      "outputs": []
    },
    {
      "cell_type": "code",
      "source": [
        "feel_adj = []\n",
        "matcher = Matcher(nlp.vocab)\n",
        "pattern = [{'LOWER' : {'IN' : ['i', 'we']}}, {'OP': '?'}, \n",
        "  {'LOWER': {'IN' : ['feel', 'am', \"'m\", 'are', \"'re\", \"found\"]}}, \n",
        "  {'OP': '?'}, {'OP': '?'}, {'POS':'ADJ'}]\n",
        "matcher.add(\"FeelAdj\", [pattern]) \n",
        "matches = matcher(doc, as_spans=True) \n",
        "for span in matches:\n",
        "    feel_adj.extend([token.lemma_ for token in span if token.pos_ == 'ADJ'])\n",
        "Counter(feel_adj)"
      ],
      "metadata": {
        "id": "VhWVHR0UFr9a"
      },
      "execution_count": null,
      "outputs": []
    },
    {
      "cell_type": "markdown",
      "source": [
        "## **Privacy Questions Analysis**"
      ],
      "metadata": {
        "id": "ZH_mX4uIjnUA"
      }
    },
    {
      "cell_type": "markdown",
      "source": [
        "QUESTION 24: I find that device invades my privacy if used **during the class**"
      ],
      "metadata": {
        "id": "90YfV_Y5kvlA"
      }
    },
    {
      "cell_type": "code",
      "source": [
        "df.Q24.value_counts()"
      ],
      "metadata": {
        "id": "uG-2lbVXjmmn"
      },
      "execution_count": null,
      "outputs": []
    },
    {
      "cell_type": "code",
      "source": [
        "df.groupby('Q24').count()[\"Q25\"]"
      ],
      "metadata": {
        "id": "XFOn1EFLM57Q"
      },
      "execution_count": null,
      "outputs": []
    },
    {
      "cell_type": "markdown",
      "source": [
        "QUESTION 46: I find that device invades my privacy if used during **out of the class discussion**"
      ],
      "metadata": {
        "id": "eoL1WFfclBx9"
      }
    },
    {
      "cell_type": "code",
      "source": [
        "df.Q46.value_counts()"
      ],
      "metadata": {
        "id": "BnPkihB-lJrF"
      },
      "execution_count": null,
      "outputs": []
    },
    {
      "cell_type": "markdown",
      "source": [
        "QUESTION 25: Compared to google home and amazon, this device is invasive and intrusive"
      ],
      "metadata": {
        "id": "rCQO-GZxlTn3"
      }
    },
    {
      "cell_type": "code",
      "source": [
        "df.Q25.value_counts()"
      ],
      "metadata": {
        "id": "Vh6HcJPSlOVk"
      },
      "execution_count": null,
      "outputs": []
    },
    {
      "cell_type": "markdown",
      "source": [
        "QUESTION 26: I would rather not have a piece of technology actively recording me in class."
      ],
      "metadata": {
        "id": "R6TNgvR8lgKA"
      }
    },
    {
      "cell_type": "code",
      "source": [
        "df.Q26.value_counts()"
      ],
      "metadata": {
        "id": "--WbjCpZlfiU"
      },
      "execution_count": null,
      "outputs": []
    },
    {
      "cell_type": "markdown",
      "source": [
        "During and out of the discussion comparison"
      ],
      "metadata": {
        "id": "597tfGUwlyVl"
      }
    },
    {
      "cell_type": "code",
      "source": [
        "import seaborn as sns\n",
        "sns.histplot(binwidth=1, x=\"Q46\", hue=\"Q26\", data=df, stat=\"count\", multiple=\"dodge\")"
      ],
      "metadata": {
        "id": "5EbaADjxlqha"
      },
      "execution_count": null,
      "outputs": []
    },
    {
      "cell_type": "code",
      "source": [
        "kwargs = dict(\n",
        "    startangle = 90,\n",
        "    colormap   = 'Pastel2',\n",
        "    fontsize   = 13,\n",
        "    figsize    = (60,5),\n",
        "    autopct    = '%1.1f%%',\n",
        "    title      = 'Invades privacy during the class'\n",
        ")\n",
        "\n",
        "df.Q24.value_counts().plot.pie(**kwargs)\n"
      ],
      "metadata": {
        "id": "D3c8ypj2DjjM"
      },
      "execution_count": null,
      "outputs": []
    },
    {
      "cell_type": "code",
      "source": [
        "kwargs = dict(\n",
        "    startangle = 90,\n",
        "    colormap   = 'Pastel2',\n",
        "    fontsize   = 13,\n",
        "    figsize    = (60,5),\n",
        "    autopct    = '%1.1f%%',\n",
        "    title      = 'Invades privacy during out of the classroom'\n",
        ")\n",
        "\n",
        "df.Q46.value_counts().plot.pie(**kwargs)"
      ],
      "metadata": {
        "id": "19C5fXBBFRIN"
      },
      "execution_count": null,
      "outputs": []
    },
    {
      "cell_type": "markdown",
      "source": [
        "## **Correlation Analysis**"
      ],
      "metadata": {
        "id": "QcaX0YRLVMg0"
      }
    },
    {
      "cell_type": "code",
      "source": [
        "df2 = df.copy()"
      ],
      "metadata": {
        "id": "CvO8lRLbGNYt"
      },
      "execution_count": null,
      "outputs": []
    },
    {
      "cell_type": "code",
      "source": [
        "from sklearn.preprocessing import LabelEncoder\n",
        "labelencoder = LabelEncoder()\n",
        "df['Q21'] = labelencoder.fit_transform(df['Q21'])\n",
        "df['Q24'] = labelencoder.fit_transform(df['Q24'])\n",
        "df['Q46'] = labelencoder.fit_transform(df['Q46'])\n",
        "df['Q25'] = labelencoder.fit_transform(df['Q25'])\n",
        "df['Q26'] = labelencoder.fit_transform(df['Q26'])"
      ],
      "metadata": {
        "id": "hihSpXSeF7QI"
      },
      "execution_count": null,
      "outputs": []
    },
    {
      "cell_type": "code",
      "source": [
        "privacy_data = df[['Q21', 'Q24', 'Q46', 'Q25', 'Q26']]"
      ],
      "metadata": {
        "id": "sQvA8O-6IzQl"
      },
      "execution_count": null,
      "outputs": []
    },
    {
      "cell_type": "code",
      "source": [
        "matrix = df.corr().round(2)\n",
        "matrix"
      ],
      "metadata": {
        "id": "duN0gu1wKbBG"
      },
      "execution_count": null,
      "outputs": []
    },
    {
      "cell_type": "code",
      "source": [
        "sns.heatmap(matrix, annot=True, vmax = 1, vmin = -1, center = 0)\n",
        "plt.show()"
      ],
      "metadata": {
        "colab": {
          "base_uri": "https://localhost:8080/",
          "height": 269
        },
        "id": "_TJR2G1MOP-J",
        "outputId": "7c6fa31b-39b2-4eca-e6c8-fc0779576c10"
      },
      "execution_count": 34,
      "outputs": [
        {
          "output_type": "display_data",
          "data": {
            "text/plain": [
              "<Figure size 432x288 with 2 Axes>"
            ],
            "image/png": "[encoded data removed]"
          },
          "metadata": {
            "needs_background": "light"
          }
        }
      ]
    },
    {
      "cell_type": "code",
      "source": [
        "mask = np.triu(np.ones_like(matrix, dtype = bool))\n",
        "sns.heatmap(matrix, annot=True, vmax = 1, vmin = -1, center = 0, mask = mask)\n",
        "plt.show()"
      ],
      "metadata": {
        "colab": {
          "base_uri": "https://localhost:8080/",
          "height": 269
        },
        "id": "cP_4ZtxHQWU5",
        "outputId": "0a9c7eeb-182f-4e15-aad8-c6627ec979ac"
      },
      "execution_count": 35,
      "outputs": [
        {
          "output_type": "display_data",
          "data": {
            "text/plain": [
              "<Figure size 432x288 with 2 Axes>"
            ],
            "image/png": "[encoded data removed]"
          },
          "metadata": {
            "needs_background": "light"
          }
        }
      ]
    },
    {
      "cell_type": "markdown",
      "source": [
        "# **Topic Modeling**"
      ],
      "metadata": {
        "id": "enR4Hxkj9og_"
      }
    },
    {
      "cell_type": "code",
      "source": [
        "df2 = df[df['Q19'].notna()]"
      ],
      "metadata": {
        "id": "IMffJt57ArP0"
      },
      "execution_count": null,
      "outputs": []
    },
    {
      "cell_type": "code",
      "source": [
        "import sklearn\n",
        "import numpy as np\n",
        "from sklearn.feature_extraction.text import CountVectorizer\n",
        "from sklearn.feature_extraction.text import TfidfVectorizer\n",
        "from sklearn.decomposition import LatentDirichletAllocation\n",
        "\n",
        "vectorizer = CountVectorizer(analyzer='word',       \n",
        "                             # min_df=20,                      \n",
        "                             stop_words='english',             \n",
        "                             lowercase=True,                  \n",
        "                             token_pattern='[a-zA-Z0-9]{3,}',  \n",
        "                             max_features=200,  \n",
        "                            )\n",
        "\n",
        "data_vectorized = vectorizer.fit_transform(df2['Q19'])\n",
        "\n",
        "lda_model_ = LatentDirichletAllocation(n_components=5,\n",
        "                                      learning_method='online',\n",
        "                                      random_state=100,       \n",
        "                                      n_jobs = -1  \n",
        "                                     )\n",
        "lda_output = lda_model_.fit_transform(data_vectorized)\n",
        "\n",
        "print(lda_model_)"
      ],
      "metadata": {
        "id": "vfjHhKYN9nzI"
      },
      "execution_count": null,
      "outputs": []
    },
    {
      "cell_type": "code",
      "source": [
        "df2.columns"
      ],
      "metadata": {
        "id": "VUSwvcmGCFAm"
      },
      "execution_count": null,
      "outputs": []
    },
    {
      "cell_type": "code",
      "source": [
        "lda_output = lda_model_.transform(data_vectorized)\n",
        "topicnames = [\"Topic\" + str(i) for i in range(5)]\n",
        "docnames = df2['ResponseId']\n",
        "df_document_topic = pd.DataFrame(np.round(lda_output, 5), columns=topicnames, index=docnames)\n",
        "dominant_topic = np.argmax(df_document_topic.values, axis=1)\n",
        "df_document_topic['dominant_topic'] = dominant_topic"
      ],
      "metadata": {
        "id": "7S64WI5iBRxj"
      },
      "execution_count": null,
      "outputs": []
    },
    {
      "cell_type": "code",
      "source": [
        "df_document_topic"
      ],
      "metadata": {
        "id": "m10ky_AgCPd2"
      },
      "execution_count": null,
      "outputs": []
    },
    {
      "cell_type": "code",
      "source": [
        "# Show top 20 keywords for each topic\n",
        "def show_topics(vectorizer=vectorizer, lda_model=lda_model_, n_words=20):\n",
        "    keywords = np.array(vectorizer.get_feature_names())\n",
        "    topic_keywords = []\n",
        "    for topic_weights in lda_model.components_:\n",
        "        top_keyword_locs = (-topic_weights).argsort()[:n_words]\n",
        "        topic_keywords.append(keywords.take(top_keyword_locs))\n",
        "    return topic_keywords\n",
        "\n",
        "topic_keywords = show_topics(vectorizer=vectorizer, lda_model=lda_model_, n_words=20)        \n",
        "\n",
        "# Topic - Keywords Dataframe\n",
        "df_topic_keywords = pd.DataFrame(topic_keywords)\n",
        "df_topic_keywords.columns = ['Word '+str(i) for i in range(df_topic_keywords.shape[1])]\n",
        "df_topic_keywords.index = ['Topic '+str(i) for i in range(df_topic_keywords.shape[0])]\n",
        "df_topic_keywords"
      ],
      "metadata": {
        "id": "qkj9PoieCWyG"
      },
      "execution_count": null,
      "outputs": []
    },
    {
      "cell_type": "markdown",
      "source": [
        "December 20 meeting todos:\n",
        "1. Highly discussed topics\n",
        "2. Bigram/trigram words as a keyword\n",
        "3. Emotionality -> common sentiment analysis in relation to topics they discussed -> lexMo & liwc (https://lit.eecs.umich.edu/geoliwc/liwc_dictionary.html)\n"
      ],
      "metadata": {
        "id": "aFLjAEP-JcUT"
      }
    },
    {
      "cell_type": "markdown",
      "source": [
        "## **Bigrams & Trigams**"
      ],
      "metadata": {
        "id": "f3p4txgZSeKe"
      }
    },
    {
      "cell_type": "code",
      "source": [
        "def sent_to_words(sentences):\n",
        "    for sentence in sentences:\n",
        "        yield(gensim.utils.simple_preprocess(str(sentence), deacc=True)) \n",
        "\n",
        "data_words = list(sent_to_words(df2['Q19']))\n",
        "\n",
        "# Build the bigram and trigram models\n",
        "bigram = gensim.models.Phrases(data_words, min_count=5, threshold=30) # higher threshold fewer phrases.\n",
        "trigram = gensim.models.Phrases(bigram[data_words], threshold=30)  \n",
        "\n",
        "# Faster way to get a sentence clubbed as a trigram/bigram\n",
        "bigram_mod = gensim.models.phrases.Phraser(bigram)\n",
        "trigram_mod = gensim.models.phrases.Phraser(trigram)"
      ],
      "metadata": {
        "id": "dL23TrcwSci8"
      },
      "execution_count": 40,
      "outputs": []
    },
    {
      "cell_type": "code",
      "source": [
        "def make_bigrams(texts):\n",
        "    return [bigram_mod[doc] for doc in texts]\n",
        "\n",
        "def make_trigrams(texts):\n",
        "    return [trigram_mod[doc] for doc in texts]\n",
        "\n",
        "def remove_stopwords(texts):\n",
        "    return [[word for word in gensim.utils.simple_preprocess(str(doc)) if word not in stopwords] for doc in texts]\n",
        "  "
      ],
      "metadata": {
        "id": "6VV1FhfTUjzk"
      },
      "execution_count": 55,
      "outputs": []
    },
    {
      "cell_type": "code",
      "source": [
        "data_words_nostops = remove_stopwords(data_words)\n",
        "data_words_bigrams = make_bigrams(data_words_nostops)\n",
        "data_words_trigrams = make_trigrams(data_words_nostops)"
      ],
      "metadata": {
        "id": "8YS_tFzaU4tN"
      },
      "execution_count": 56,
      "outputs": []
    },
    {
      "cell_type": "code",
      "source": [
        "c_vec = CountVectorizer(stop_words=stopwords, ngram_range=(2,3))\n",
        "ngrams = c_vec.fit_transform(df2['Q19'])\n",
        "count_values = ngrams.toarray().sum(axis=0)\n",
        "vocab = c_vec.vocabulary_\n",
        "df_ngram = pd.DataFrame(sorted([(count_values[i],k) for k,i in vocab.items()], reverse=True)\n",
        "            ).rename(columns={0: 'frequency', 1:'bigram/trigram'})"
      ],
      "metadata": {
        "id": "iCxGnmI1VSDC"
      },
      "execution_count": 58,
      "outputs": []
    },
    {
      "cell_type": "code",
      "source": [
        "df_ngram['polarity'] = df_ngram['bigram/trigram'].apply(lambda x: TextBlob(x).polarity)\n",
        "df_ngram['subjective'] = df_ngram['bigram/trigram'].apply(lambda x: TextBlob(x).subjectivity)"
      ],
      "metadata": {
        "id": "th9mDl5GXFqP"
      },
      "execution_count": 61,
      "outputs": []
    },
    {
      "cell_type": "code",
      "source": [
        "df_ngram"
      ],
      "metadata": {
        "colab": {
          "base_uri": "https://localhost:8080/",
          "height": 419
        },
        "id": "Tp8ycufOXTpy",
        "outputId": "dc58e8af-66c4-4c5f-c7c0-efc4ea4bd3f1"
      },
      "execution_count": 62,
      "outputs": [
        {
          "output_type": "execute_result",
          "data": {
            "text/plain": [
              "      frequency                       bigram/trigram  polarity  subjective\n",
              "0            66                         data capture       0.0       0.000\n",
              "1            65                     capture platform       0.0       0.000\n",
              "2            63                data capture platform       0.0       0.000\n",
              "3            35                            real time       0.2       0.300\n",
              "4            14                     purpose platform       0.0       0.000\n",
              "...         ...                                  ...       ...         ...\n",
              "5293          1                   able capture audio       0.5       0.625\n",
              "5294          1                 ability use keywords       0.0       0.000\n",
              "5295          1                          ability use       0.0       0.000\n",
              "5296          1  ability understanding conversations       0.0       0.000\n",
              "5297          1                ability understanding       0.0       0.000\n",
              "\n",
              "[5298 rows x 4 columns]"
            ],
            "text/html": [
              "\n",
              "  <div id=\"df-ef791835-f9b0-4b32-aa4d-6766ff14ffb9\">\n",
              "    <div class=\"colab-df-container\">\n",
              "      <div>\n",
              "<style scoped>\n",
              "    .dataframe tbody tr th:only-of-type {\n",
              "        vertical-align: middle;\n",
              "    }\n",
              "\n",
              "    .dataframe tbody tr th {\n",
              "        vertical-align: top;\n",
              "    }\n",
              "\n",
              "    .dataframe thead th {\n",
              "        text-align: right;\n",
              "    }\n",
              "</style>\n",
              "<table border=\"1\" class=\"dataframe\">\n",
              "  <thead>\n",
              "    <tr style=\"text-align: right;\">\n",
              "      <th></th>\n",
              "      <th>frequency</th>\n",
              "      <th>bigram/trigram</th>\n",
              "      <th>polarity</th>\n",
              "      <th>subjective</th>\n",
              "    </tr>\n",
              "  </thead>\n",
              "  <tbody>\n",
              "    <tr>\n",
              "      <th>0</th>\n",
              "      <td>66</td>\n",
              "      <td>data capture</td>\n",
              "      <td>0.0</td>\n",
              "      <td>0.000</td>\n",
              "    </tr>\n",
              "    <tr>\n",
              "      <th>1</th>\n",
              "      <td>65</td>\n",
              "      <td>capture platform</td>\n",
              "      <td>0.0</td>\n",
              "      <td>0.000</td>\n",
              "    </tr>\n",
              "    <tr>\n",
              "      <th>2</th>\n",
              "      <td>63</td>\n",
              "      <td>data capture platform</td>\n",
              "      <td>0.0</td>\n",
              "      <td>0.000</td>\n",
              "    </tr>\n",
              "    <tr>\n",
              "      <th>3</th>\n",
              "      <td>35</td>\n",
              "      <td>real time</td>\n",
              "      <td>0.2</td>\n",
              "      <td>0.300</td>\n",
              "    </tr>\n",
              "    <tr>\n",
              "      <th>4</th>\n",
              "      <td>14</td>\n",
              "      <td>purpose platform</td>\n",
              "      <td>0.0</td>\n",
              "      <td>0.000</td>\n",
              "    </tr>\n",
              "    <tr>\n",
              "      <th>...</th>\n",
              "      <td>...</td>\n",
              "      <td>...</td>\n",
              "      <td>...</td>\n",
              "      <td>...</td>\n",
              "    </tr>\n",
              "    <tr>\n",
              "      <th>5293</th>\n",
              "      <td>1</td>\n",
              "      <td>able capture audio</td>\n",
              "      <td>0.5</td>\n",
              "      <td>0.625</td>\n",
              "    </tr>\n",
              "    <tr>\n",
              "      <th>5294</th>\n",
              "      <td>1</td>\n",
              "      <td>ability use keywords</td>\n",
              "      <td>0.0</td>\n",
              "      <td>0.000</td>\n",
              "    </tr>\n",
              "    <tr>\n",
              "      <th>5295</th>\n",
              "      <td>1</td>\n",
              "      <td>ability use</td>\n",
              "      <td>0.0</td>\n",
              "      <td>0.000</td>\n",
              "    </tr>\n",
              "    <tr>\n",
              "      <th>5296</th>\n",
              "      <td>1</td>\n",
              "      <td>ability understanding conversations</td>\n",
              "      <td>0.0</td>\n",
              "      <td>0.000</td>\n",
              "    </tr>\n",
              "    <tr>\n",
              "      <th>5297</th>\n",
              "      <td>1</td>\n",
              "      <td>ability understanding</td>\n",
              "      <td>0.0</td>\n",
              "      <td>0.000</td>\n",
              "    </tr>\n",
              "  </tbody>\n",
              "</table>\n",
              "<p>5298 rows × 4 columns</p>\n",
              "</div>\n",
              "      <button class=\"colab-df-convert\" onclick=\"convertToInteractive('df-ef791835-f9b0-4b32-aa4d-6766ff14ffb9')\"\n",
              "              title=\"Convert this dataframe to an interactive table.\"\n",
              "              style=\"display:none;\">\n",
              "        \n",
              "  <svg xmlns=\"http://www.w3.org/2000/svg\" height=\"24px\"viewBox=\"0 0 24 24\"\n",
              "       width=\"24px\">\n",
              "    <path d=\"M0 0h24v24H0V0z\" fill=\"none\"/>\n",
              "    <path d=\"M18.56 5.44l.94 2.06.94-2.06 2.06-.94-2.06-.94-.94-2.06-.94 2.06-2.06.94zm-11 1L8.5 8.5l.94-2.06 2.06-.94-2.06-.94L8.5 2.5l-.94 2.06-2.06.94zm10 10l.94 2.06.94-2.06 2.06-.94-2.06-.94-.94-2.06-.94 2.06-2.06.94z\"/><path d=\"M17.41 7.96l-1.37-1.37c-.4-.4-.92-.59-1.43-.59-.52 0-1.04.2-1.43.59L10.3 9.45l-7.72 7.72c-.78.78-.78 2.05 0 2.83L4 21.41c.39.39.9.59 1.41.59.51 0 1.02-.2 1.41-.59l7.78-7.78 2.81-2.81c.8-.78.8-2.07 0-2.86zM5.41 20L4 18.59l7.72-7.72 1.47 1.35L5.41 20z\"/>\n",
              "  </svg>\n",
              "      </button>\n",
              "      \n",
              "  <style>\n",
              "    .colab-df-container {\n",
              "      display:flex;\n",
              "      flex-wrap:wrap;\n",
              "      gap: 12px;\n",
              "    }\n",
              "\n",
              "    .colab-df-convert {\n",
              "      background-color: #E8F0FE;\n",
              "      border: none;\n",
              "      border-radius: 50%;\n",
              "      cursor: pointer;\n",
              "      display: none;\n",
              "      fill: #1967D2;\n",
              "      height: 32px;\n",
              "      padding: 0 0 0 0;\n",
              "      width: 32px;\n",
              "    }\n",
              "\n",
              "    .colab-df-convert:hover {\n",
              "      background-color: #E2EBFA;\n",
              "      box-shadow: 0px 1px 2px rgba(60, 64, 67, 0.3), 0px 1px 3px 1px rgba(60, 64, 67, 0.15);\n",
              "      fill: #174EA6;\n",
              "    }\n",
              "\n",
              "    [theme=dark] .colab-df-convert {\n",
              "      background-color: #3B4455;\n",
              "      fill: #D2E3FC;\n",
              "    }\n",
              "\n",
              "    [theme=dark] .colab-df-convert:hover {\n",
              "      background-color: #434B5C;\n",
              "      box-shadow: 0px 1px 3px 1px rgba(0, 0, 0, 0.15);\n",
              "      filter: drop-shadow(0px 1px 2px rgba(0, 0, 0, 0.3));\n",
              "      fill: #FFFFFF;\n",
              "    }\n",
              "  </style>\n",
              "\n",
              "      <script>\n",
              "        const buttonEl =\n",
              "          document.querySelector('#df-ef791835-f9b0-4b32-aa4d-6766ff14ffb9 button.colab-df-convert');\n",
              "        buttonEl.style.display =\n",
              "          google.colab.kernel.accessAllowed ? 'block' : 'none';\n",
              "\n",
              "        async function convertToInteractive(key) {\n",
              "          const element = document.querySelector('#df-ef791835-f9b0-4b32-aa4d-6766ff14ffb9');\n",
              "          const dataTable =\n",
              "            await google.colab.kernel.invokeFunction('convertToInteractive',\n",
              "                                                     [key], {});\n",
              "          if (!dataTable) return;\n",
              "\n",
              "          const docLinkHtml = 'Like what you see? Visit the ' +\n",
              "            '<a target=\"_blank\" href=https://colab.research.google.com/notebooks/data_table.ipynb>data table notebook</a>'\n",
              "            + ' to learn more about interactive tables.';\n",
              "          element.innerHTML = '';\n",
              "          dataTable['output_type'] = 'display_data';\n",
              "          await google.colab.output.renderOutput(dataTable, element);\n",
              "          const docLink = document.createElement('div');\n",
              "          docLink.innerHTML = docLinkHtml;\n",
              "          element.appendChild(docLink);\n",
              "        }\n",
              "      </script>\n",
              "    </div>\n",
              "  </div>\n",
              "  "
            ]
          },
          "metadata": {},
          "execution_count": 62
        }
      ]
    },
    {
      "cell_type": "code",
      "source": [
        "tfidf_vectorizer = TfidfVectorizer(stop_words=stopwords, ngram_range=(2,3))\n",
        "lda2 = LatentDirichletAllocation(n_components=3,\n",
        "                                learning_method='online',\n",
        "                                random_state=50,       \n",
        "                                n_jobs = -1)\n",
        "pipe = make_pipeline(tfidf_vectorizer, lda2)\n",
        "pipe.fit(df2['Q19'])\n",
        "\n",
        "def print_top_words(model, feature_names, n_top_words):\n",
        "    for topic_idx, topic in enumerate(model.components_):\n",
        "        message = \"Topic #%d: \" % topic_idx\n",
        "        message += \", \".join([feature_names[i]\n",
        "                             for i in topic.argsort()[:-n_top_words - 1:-1]])\n",
        "        print(message)\n",
        "    print()\n",
        "print_top_words(lda2, tfidf_vectorizer.get_feature_names(), n_top_words=3)"
      ],
      "metadata": {
        "colab": {
          "base_uri": "https://localhost:8080/"
        },
        "id": "yk45r33tXke3",
        "outputId": "fc8a4157-1551-4c2c-e713-f96867ad3c05"
      },
      "execution_count": 69,
      "outputs": [
        {
          "output_type": "stream",
          "name": "stdout",
          "text": [
            "Topic #0: data capture, capture platform, data capture platform\n",
            "Topic #1: real time, emotional tone, talking transcript\n",
            "Topic #2: data capture, data capture platform, capture platform\n",
            "\n"
          ]
        }
      ]
    },
    {
      "cell_type": "markdown",
      "source": [
        "# **Contextualized Topic Modeling**"
      ],
      "metadata": {
        "id": "Gzn8IE9vGjhC"
      }
    },
    {
      "cell_type": "code",
      "source": [
        "!pip install contextualized-topic-models==1.8.2\n",
        "!pip install nltk"
      ],
      "metadata": {
        "id": "ufci-KNUGmi_"
      },
      "execution_count": null,
      "outputs": []
    },
    {
      "cell_type": "code",
      "source": [
        "import nltk\n",
        "nltk.download('stopwords')\n",
        "from contextualized_topic_models.utils.preprocessing import WhiteSpacePreprocessing\n",
        "\n",
        "all_text = df2.Q19.str.cat(sep = ' ')\n",
        "doc = nlp(string(all_text))\n",
        "sp = WhiteSpacePreprocessing(doc, stopwords_language='english') "
      ],
      "metadata": {
        "id": "r5DVukgEHAPN"
      },
      "execution_count": null,
      "outputs": []
    },
    {
      "cell_type": "code",
      "source": [
        "string(all_text)"
      ],
      "metadata": {
        "id": "d_41QPEkGxAd"
      },
      "execution_count": null,
      "outputs": []
    },
    {
      "cell_type": "code",
      "source": [
        "preprocessed_documents, unpreprocessed_corpus, vocab, retained_indices = sp.preprocess()"
      ],
      "metadata": {
        "id": "WiGc8YxKOiTD"
      },
      "execution_count": null,
      "outputs": []
    }
  ]
}
