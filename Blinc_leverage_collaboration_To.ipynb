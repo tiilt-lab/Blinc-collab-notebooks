{
  "nbformat": 4,
  "nbformat_minor": 0,
  "metadata": {
    "colab": {
      "provenance": []
    },
    "kernelspec": {
      "name": "python3",
      "display_name": "Python 3"
    },
    "language_info": {
      "name": "python"
    }
  },
  "cells": [
    {
      "cell_type": "code",
      "execution_count": 2,
      "metadata": {
        "id": "heshkchwSP5H"
      },
      "outputs": [],
      "source": [
        "import pandas as pd\n",
        "import spacy\n",
        "nlp = spacy.load(\"en_core_web_sm\")\n",
        "# nlp.max_length = 1850000"
      ]
    },
    {
      "cell_type": "code",
      "source": [
        "df = pd.read_csv(\"/content/Leverage_Collaboration_data_analysis.csv\")"
      ],
      "metadata": {
        "id": "S9aY9bKXSfyG"
      },
      "execution_count": 3,
      "outputs": []
    },
    {
      "cell_type": "code",
      "source": [
        "df.info()"
      ],
      "metadata": {
        "colab": {
          "base_uri": "https://localhost:8080/"
        },
        "id": "IDbg4QrWS5jD",
        "outputId": "2dad5497-f7bd-479f-8358-49377731b211"
      },
      "execution_count": 4,
      "outputs": [
        {
          "output_type": "stream",
          "name": "stdout",
          "text": [
            "<class 'pandas.core.frame.DataFrame'>\n",
            "RangeIndex: 304 entries, 0 to 303\n",
            "Data columns (total 7 columns):\n",
            " #   Column      Non-Null Count  Dtype \n",
            "---  ------      --------------  ----- \n",
            " 0   ResponseId  304 non-null    object\n",
            " 1   Q51         204 non-null    object\n",
            " 2   Q52         201 non-null    object\n",
            " 3   Q57         188 non-null    object\n",
            " 4   Q55         184 non-null    object\n",
            " 5   Q58         184 non-null    object\n",
            " 6   Q59         183 non-null    object\n",
            "dtypes: object(7)\n",
            "memory usage: 16.8+ KB\n"
          ]
        }
      ]
    },
    {
      "cell_type": "code",
      "source": [
        "# QUESTION 51 ANALYSIS\n",
        "# What kinds of information would be useful to you for evaluating an \n",
        "# individual participant's contributions to a collaborative group?\n",
        "\n",
        "all_text_51 = df.Q51.str.cat(sep = ' ')\n",
        "doc_51 = nlp(all_text_51)"
      ],
      "metadata": {
        "id": "sTPZ446vTI2V"
      },
      "execution_count": 5,
      "outputs": []
    },
    {
      "cell_type": "code",
      "source": [
        "from collections import Counter\n",
        "\n",
        "words = [token.lemma_ for token in doc_51 if not token.is_stop and not token.is_punct] \n",
        "word_freq = Counter(words) \n",
        "word_freq.most_common(30)"
      ],
      "metadata": {
        "colab": {
          "base_uri": "https://localhost:8080/"
        },
        "id": "I1owwC8uVYTJ",
        "outputId": "792f728f-4e9c-4389-c3a8-f8ad8e33ac3d"
      },
      "execution_count": 14,
      "outputs": [
        {
          "output_type": "execute_result",
          "data": {
            "text/plain": [
              "[('group', 81),\n",
              " ('work', 75),\n",
              " ('time', 43),\n",
              " ('contribute', 43),\n",
              " ('contribution', 42),\n",
              " (' ', 40),\n",
              " ('individual', 40),\n",
              " ('project', 31),\n",
              " ('know', 27),\n",
              " ('member', 26),\n",
              " ('effort', 25),\n",
              " ('spend', 25),\n",
              " ('idea', 25),\n",
              " ('person', 23),\n",
              " ('useful', 23),\n",
              " ('information', 20),\n",
              " ('participant', 20),\n",
              " ('meeting', 19),\n",
              " ('participate', 17),\n",
              " ('complete', 16),\n",
              " ('evaluate', 16),\n",
              " ('think', 16),\n",
              " ('collaboration', 15),\n",
              " ('team', 14),\n",
              " ('peer', 14),\n",
              " ('try', 13),\n",
              " ('task', 13),\n",
              " ('discussion', 12),\n",
              " ('people', 12),\n",
              " ('help', 12)]"
            ]
          },
          "metadata": {},
          "execution_count": 14
        }
      ]
    },
    {
      "cell_type": "code",
      "source": [
        "from spacy.matcher import Matcher \n",
        "matcher = Matcher(nlp.vocab) \n",
        "pattern = [{'POS':'NOUN'}, {'POS':'NOUN'}]\n",
        "pattern1 = [{'POS':'NOUN'}, {'POS':'VERB'}]\n",
        "pattern4 = [{'POS':'NOUN'}, {\"POS\": \"AUX\", \"OP\" : \"*\"},{\"POS\": \"ADP\", \"OP\" : \"*\"},{\"POS\": \"DET\", \"OP\" : \"*\"},{'POS':'VERB'}]  \n",
        "pattern5 = [{'POS':'NOUN'}, {'POS':'NOUN'},{\"POS\": \"AUX\", \"OP\" : \"*\"},{\"POS\": \"ADP\", \"OP\" : \"*\"},{\"POS\": \"DET\", \"OP\" : \"*\"},{'POS':'VERB'}]\n",
        "\n",
        "matcher.add('PATTERN', [pattern]) \n",
        "matcher.add('PATTERN1', [pattern1])\n",
        "matcher.add('RULE4',[pattern4])\n",
        "matcher.add('RULE5',[pattern5]) \n",
        "matches = matcher(doc_51, as_spans=True) \n",
        "phrases = [] \n",
        "for span in matches:\n",
        "    phrases.append(span.text.lower())\n",
        "\n",
        "phrase_freq = Counter(phrases)\n",
        "phrase_freq.most_common(15)"
      ],
      "metadata": {
        "colab": {
          "base_uri": "https://localhost:8080/"
        },
        "id": "vlNvohHKWcNm",
        "outputId": "619152b0-f273-4cd1-cdf8-7edafacfed04"
      },
      "execution_count": 35,
      "outputs": [
        {
          "output_type": "execute_result",
          "data": {
            "text/plain": [
              "[('work done', 16),\n",
              " ('group members', 13),\n",
              " ('time spent', 12),\n",
              " ('group finish', 6),\n",
              " ('group meetings', 6),\n",
              " ('peer reviews', 6),\n",
              " ('group meeting', 4),\n",
              " ('work produced', 4),\n",
              " ('lines written', 4),\n",
              " ('person contribute', 4),\n",
              " ('person did', 4),\n",
              " ('group members can participate', 3),\n",
              " ('members can participate', 3),\n",
              " ('issues came', 2),\n",
              " ('time spend', 2)]"
            ]
          },
          "metadata": {},
          "execution_count": 35
        }
      ]
    },
    {
      "cell_type": "code",
      "source": [
        "# QUESTION 52 ANALYSIS\n",
        "# What kinds of information would be useful to you for evaluating collaboration quality at a group level?\n",
        "\n",
        "all_text_52 = df.Q52.str.cat(sep = ' ')\n",
        "doc_52 = nlp(all_text_52)"
      ],
      "metadata": {
        "id": "RziYz6lN09XZ"
      },
      "execution_count": 13,
      "outputs": []
    },
    {
      "cell_type": "code",
      "source": [
        "from collections import Counter\n",
        "\n",
        "words = [token.lemma_ for token in doc_52 if not token.is_stop and not token.is_punct] \n",
        "word_freq = Counter(words) \n",
        "word_freq.most_common(30)"
      ],
      "metadata": {
        "colab": {
          "base_uri": "https://localhost:8080/"
        },
        "id": "o6kkUH_w1jGA",
        "outputId": "d0a74060-c3f4-46a0-b8e3-bc6ee7d4d8e2"
      },
      "execution_count": 16,
      "outputs": [
        {
          "output_type": "execute_result",
          "data": {
            "text/plain": [
              "[('group', 135),\n",
              " ('work', 67),\n",
              " ('collaboration', 60),\n",
              " ('member', 52),\n",
              " (' ', 44),\n",
              " ('quality', 43),\n",
              " ('project', 26),\n",
              " ('time', 25),\n",
              " ('level', 24),\n",
              " ('people', 21),\n",
              " ('good', 21),\n",
              " ('idea', 21),\n",
              " ('useful', 21),\n",
              " ('team', 20),\n",
              " ('product', 19),\n",
              " ('individual', 19),\n",
              " ('contribute', 17),\n",
              " ('final', 15),\n",
              " ('information', 15),\n",
              " ('evaluate', 15),\n",
              " ('progress', 15),\n",
              " ('task', 14),\n",
              " ('complete', 13),\n",
              " ('overall', 13),\n",
              " ('person', 13),\n",
              " ('like', 12),\n",
              " ('think', 12),\n",
              " ('spend', 12),\n",
              " ('know', 10),\n",
              " ('goal', 10)]"
            ]
          },
          "metadata": {},
          "execution_count": 16
        }
      ]
    },
    {
      "cell_type": "code",
      "source": [
        "from spacy.matcher import Matcher \n",
        "matcher = Matcher(nlp.vocab) \n",
        "pattern = [{'POS':'NOUN'}, {'POS':'NOUN'}]\n",
        "pattern1 = [{'POS':'NOUN'}, {'POS':'VERB'}]\n",
        "pattern4 = [{'POS':'NOUN'}, {\"POS\": \"AUX\", \"OP\" : \"*\"},{\"POS\": \"ADP\", \"OP\" : \"*\"},{\"POS\": \"DET\", \"OP\" : \"*\"},{'POS':'VERB'}]  \n",
        "pattern5 = [{'POS':'NOUN'}, {'POS':'NOUN'},{\"POS\": \"AUX\", \"OP\" : \"*\"},{\"POS\": \"ADP\", \"OP\" : \"*\"},{\"POS\": \"DET\", \"OP\" : \"*\"},{'POS':'VERB'}]\n",
        "\n",
        "matcher.add('PATTERN', [pattern]) \n",
        "matcher.add('PATTERN1', [pattern1])\n",
        "matcher.add('RULE4',[pattern4])\n",
        "matcher.add('RULE5',[pattern5]) \n",
        "matches = matcher(doc_51, as_spans=True) \n",
        "phrases = [] \n",
        "for span in matches:\n",
        "    phrases.append(span.text.lower())\n",
        "\n",
        "phrase_freq = Counter(phrases)\n",
        "phrase_freq.most_common(15)"
      ],
      "metadata": {
        "colab": {
          "base_uri": "https://localhost:8080/"
        },
        "id": "GXLbl6sM1tZM",
        "outputId": "45c79984-4815-4fe6-a0aa-6d8e3728a54e"
      },
      "execution_count": 46,
      "outputs": [
        {
          "output_type": "execute_result",
          "data": {
            "text/plain": [
              "[('work done', 16),\n",
              " ('group members', 13),\n",
              " ('time spent', 12),\n",
              " ('group finish', 6),\n",
              " ('group meetings', 6),\n",
              " ('peer reviews', 6),\n",
              " ('group meeting', 4),\n",
              " ('work produced', 4),\n",
              " ('lines written', 4),\n",
              " ('person contribute', 4),\n",
              " ('person did', 4),\n",
              " ('group members can participate', 3),\n",
              " ('members can participate', 3),\n",
              " ('issues came', 2),\n",
              " ('time spend', 2)]"
            ]
          },
          "metadata": {},
          "execution_count": 46
        }
      ]
    },
    {
      "cell_type": "code",
      "source": [
        "# QUESTION 57 ANALYSIS\n",
        "# What kind of collaboration-quality information would you like to see in real-time?\n",
        "\n",
        "all_text_57 = df.Q57.str.cat(sep = ' ')\n",
        "doc_57 = nlp(all_text_57)"
      ],
      "metadata": {
        "id": "arkUSd9GHDUl"
      },
      "execution_count": 38,
      "outputs": []
    },
    {
      "cell_type": "code",
      "source": [
        "from collections import Counter\n",
        "\n",
        "words = [token.lemma_ for token in doc_57 if not token.is_stop and not token.is_punct] \n",
        "word_freq = Counter(words) \n",
        "word_freq.most_common(30)"
      ],
      "metadata": {
        "colab": {
          "base_uri": "https://localhost:8080/"
        },
        "id": "_SgZsIbxHL2y",
        "outputId": "69cf3119-0154-4474-9b71-d44daf881d03"
      },
      "execution_count": 47,
      "outputs": [
        {
          "output_type": "execute_result",
          "data": {
            "text/plain": [
              "[('group', 53),\n",
              " ('work', 50),\n",
              " ('collaboration', 43),\n",
              " ('time', 39),\n",
              " ('like', 37),\n",
              " (' ', 36),\n",
              " ('member', 32),\n",
              " ('people', 28),\n",
              " ('real', 24),\n",
              " ('quality', 19),\n",
              " ('information', 19),\n",
              " ('progress', 18),\n",
              " ('person', 17),\n",
              " ('task', 16),\n",
              " ('participate', 13),\n",
              " ('team', 13),\n",
              " ('talk', 13),\n",
              " ('discussion', 12),\n",
              " ('help', 12),\n",
              " ('contribute', 11),\n",
              " ('level', 11),\n",
              " ('idea', 11),\n",
              " ('sure', 11),\n",
              " ('project', 10),\n",
              " ('speak', 10),\n",
              " ('different', 10),\n",
              " ('job', 10),\n",
              " ('think', 10),\n",
              " ('problem', 9),\n",
              " ('collaborate', 9)]"
            ]
          },
          "metadata": {},
          "execution_count": 47
        }
      ]
    },
    {
      "cell_type": "code",
      "source": [
        "from spacy.matcher import Matcher \n",
        "matcher = Matcher(nlp.vocab) \n",
        "pattern = [{'POS':'NOUN'}, {'POS':'NOUN'}]\n",
        "pattern1 = [{'POS':'NOUN'}, {'POS':'VERB'}]\n",
        "pattern4 = [{'POS':'NOUN'}, {\"POS\": \"AUX\", \"OP\" : \"*\"},{\"POS\": \"ADP\", \"OP\" : \"*\"},{\"POS\": \"DET\", \"OP\" : \"*\"},{'POS':'VERB'}]  \n",
        "pattern5 = [{'POS':'NOUN'}, {'POS':'NOUN'},{\"POS\": \"AUX\", \"OP\" : \"*\"},{\"POS\": \"ADP\", \"OP\" : \"*\"},{\"POS\": \"DET\", \"OP\" : \"*\"},{'POS':'VERB'}]\n",
        "\n",
        "matcher.add('PATTERN', [pattern]) \n",
        "matcher.add('PATTERN1', [pattern1])\n",
        "#matcher.add('RULE4',[pattern4])\n",
        "#matcher.add('RULE5',[pattern5]) \n",
        "matches = matcher(doc_57, as_spans=True) \n",
        "phrases = [] \n",
        "for span in matches:\n",
        "    phrases.append(span.text.lower())\n",
        "\n",
        "phrase_freq = Counter(phrases)\n",
        "phrase_freq.most_common(30)"
      ],
      "metadata": {
        "colab": {
          "base_uri": "https://localhost:8080/"
        },
        "id": "3wnte8YEHNx1",
        "outputId": "6cc68437-9d59-4e44-aa4f-739ad3045481"
      },
      "execution_count": 67,
      "outputs": [
        {
          "output_type": "execute_result",
          "data": {
            "text/plain": [
              "[('group members', 10),\n",
              " ('quality information', 8),\n",
              " ('team members', 5),\n",
              " ('collaboration quality', 5),\n",
              " ('time collaboration', 4),\n",
              " ('group member', 4),\n",
              " ('group finish', 3),\n",
              " ('peer reviews', 3),\n",
              " ('task progress', 2),\n",
              " ('work done', 2),\n",
              " ('body language', 2),\n",
              " ('time spent', 2),\n",
              " ('problem set', 2),\n",
              " ('time include', 2),\n",
              " ('completion time', 1),\n",
              " ('group understand', 1),\n",
              " ('computer science', 1),\n",
              " ('science assignments', 1),\n",
              " ('collaboration information', 1),\n",
              " ('information sounds', 1),\n",
              " ('code written', 1),\n",
              " ('time invested', 1),\n",
              " ('people don‚äôt', 1),\n",
              " ('don‚äôt feel', 1),\n",
              " ('progress made', 1),\n",
              " ('work progress', 1),\n",
              " ('progress chart', 1),\n",
              " ('reviews judging', 1),\n",
              " ('groups works', 1),\n",
              " ('members speak', 1)]"
            ]
          },
          "metadata": {},
          "execution_count": 67
        }
      ]
    },
    {
      "cell_type": "code",
      "source": [
        "# QUESTION 55 ANALYSIS\n",
        "# How would you use this real-time information?\n",
        "\n",
        "all_text_55 = df.Q55.str.cat(sep = ' ')\n",
        "doc_55 = nlp(all_text_55)"
      ],
      "metadata": {
        "id": "JBIh10dLHmL-"
      },
      "execution_count": 41,
      "outputs": []
    },
    {
      "cell_type": "code",
      "source": [
        "words = [token.lemma_ for token in doc_55 if not token.is_stop and not token.is_punct] \n",
        "word_freq = Counter(words) \n",
        "word_freq.most_common(30)"
      ],
      "metadata": {
        "colab": {
          "base_uri": "https://localhost:8080/"
        },
        "id": "2Ka0ubmGHw5T",
        "outputId": "b7835370-69b3-4ed4-834a-b6f87d286ef5"
      },
      "execution_count": 42,
      "outputs": [
        {
          "output_type": "execute_result",
          "data": {
            "text/plain": [
              "[('group', 65),\n",
              " ('use', 56),\n",
              " ('collaboration', 52),\n",
              " ('information', 43),\n",
              " ('work', 42),\n",
              " ('time', 36),\n",
              " (' ', 32),\n",
              " ('member', 31),\n",
              " ('people', 26),\n",
              " ('real', 25),\n",
              " ('help', 19),\n",
              " ('participate', 17),\n",
              " ('know', 16),\n",
              " ('need', 15),\n",
              " ('adjust', 12),\n",
              " ('team', 12),\n",
              " ('task', 12),\n",
              " ('try', 12),\n",
              " ('improve', 12),\n",
              " ('progress', 12),\n",
              " ('project', 11),\n",
              " ('understand', 11),\n",
              " ('talk', 11),\n",
              " ('encourage', 11),\n",
              " ('good', 10),\n",
              " ('collaborate', 10),\n",
              " ('job', 10),\n",
              " ('quality', 10),\n",
              " ('evaluate', 10),\n",
              " ('idea', 9)]"
            ]
          },
          "metadata": {},
          "execution_count": 42
        }
      ]
    },
    {
      "cell_type": "code",
      "source": [
        "\n",
        "matcher = Matcher(nlp.vocab) \n",
        "pattern = [{'POS':'NOUN'}, {'POS':'NOUN'}]\n",
        "pattern1 = [{'POS':'NOUN'}, {'POS':'VERB'}]\n",
        "pattern4 = [{'POS':'NOUN'}, {\"POS\": \"AUX\", \"OP\" : \"*\"},{\"POS\": \"ADP\", \"OP\" : \"*\"},{\"POS\": \"DET\", \"OP\" : \"*\"},{'POS':'VERB'}]  \n",
        "pattern5 = [{'POS':'NOUN'}, {'POS':'NOUN'},{\"POS\": \"AUX\", \"OP\" : \"*\"},{\"POS\": \"ADP\", \"OP\" : \"*\"},{\"POS\": \"DET\", \"OP\" : \"*\"},{'POS':'VERB'}]\n",
        "\n",
        "matcher.add('PATTERN', [pattern]) \n",
        "matcher.add('PATTERN1', [pattern1])\n",
        "matcher.add('RULE4',[pattern4])\n",
        "matcher.add('RULE5',[pattern5]) \n",
        "matches = matcher(doc_55, as_spans=True) \n",
        "phrases = [] \n",
        "for span in matches:\n",
        "    phrases.append(span.text.lower())\n",
        "\n",
        "phrase_freq = Counter(phrases)\n",
        "phrase_freq.most_common(15)"
      ],
      "metadata": {
        "colab": {
          "base_uri": "https://localhost:8080/"
        },
        "id": "WW1ntUqlH1mf",
        "outputId": "9fc2ef60-b52a-485f-aebd-5e4ff2dd4cea"
      },
      "execution_count": 43,
      "outputs": [
        {
          "output_type": "execute_result",
          "data": {
            "text/plain": [
              "[('time information', 19),\n",
              " ('group members', 12),\n",
              " ('group finish', 6),\n",
              " ('people engaged', 4),\n",
              " ('people have', 4),\n",
              " ('collaboration quality', 4),\n",
              " ('points made', 4),\n",
              " ('group members can participate', 3),\n",
              " ('members can participate', 3),\n",
              " ('tasks tie', 2),\n",
              " ('individuals talk', 2),\n",
              " ('deadlines based', 2),\n",
              " ('group dynamic', 2),\n",
              " ('people disengaged', 2),\n",
              " ('communication makes', 2)]"
            ]
          },
          "metadata": {},
          "execution_count": 43
        }
      ]
    },
    {
      "cell_type": "code",
      "source": [
        "# QUESTION 58 ANALYSIS\n",
        "# What kind of collaboration-quality information would you like to see after the collaboration?\n",
        "\n",
        "all_text_58 = df.Q58.str.cat(sep = ' ')\n",
        "doc_58 = nlp(all_text_58)"
      ],
      "metadata": {
        "id": "TbUcNikaMzZM"
      },
      "execution_count": 70,
      "outputs": []
    },
    {
      "cell_type": "code",
      "source": [
        "words = [token.lemma_ for token in doc_58 if not token.is_stop and not token.is_punct] \n",
        "word_freq = Counter(words) \n",
        "word_freq.most_common(30)"
      ],
      "metadata": {
        "colab": {
          "base_uri": "https://localhost:8080/"
        },
        "id": "avOCuQ-jM8EM",
        "outputId": "f8daecfe-1a31-4917-d4b7-07c1c45b9b5b"
      },
      "execution_count": 71,
      "outputs": [
        {
          "output_type": "execute_result",
          "data": {
            "text/plain": [
              "[('collaboration', 66),\n",
              " ('group', 53),\n",
              " ('like', 45),\n",
              " ('member', 43),\n",
              " ('work', 37),\n",
              " (' ', 33),\n",
              " ('project', 21),\n",
              " ('feel', 20),\n",
              " ('information', 19),\n",
              " ('people', 17),\n",
              " ('think', 17),\n",
              " ('time', 16),\n",
              " ('quality', 16),\n",
              " ('individual', 14),\n",
              " ('contribute', 14),\n",
              " ('result', 13),\n",
              " ('person', 13),\n",
              " ('team', 11),\n",
              " ('feedback', 11),\n",
              " ('go', 11),\n",
              " ('overall', 10),\n",
              " ('final', 10),\n",
              " ('want', 10),\n",
              " ('improve', 9),\n",
              " ('good', 9),\n",
              " ('peer', 9),\n",
              " ('maybe', 9),\n",
              " ('job', 9),\n",
              " ('product', 9),\n",
              " ('contribution', 9)]"
            ]
          },
          "metadata": {},
          "execution_count": 71
        }
      ]
    },
    {
      "cell_type": "code",
      "source": [
        "matcher = Matcher(nlp.vocab) \n",
        "pattern = [{'POS':'NOUN'}, {'POS':'NOUN'}]\n",
        "pattern1 = [{'POS':'NOUN'}, {'POS':'VERB'}]\n",
        "pattern4 = [{'POS':'NOUN'}, {\"POS\": \"AUX\", \"OP\" : \"*\"},{\"POS\": \"ADP\", \"OP\" : \"*\"},{\"POS\": \"DET\", \"OP\" : \"*\"},{'POS':'VERB'}]  \n",
        "pattern5 = [{'POS':'NOUN'}, {'POS':'NOUN'},{\"POS\": \"AUX\", \"OP\" : \"*\"},{\"POS\": \"ADP\", \"OP\" : \"*\"},{\"POS\": \"DET\", \"OP\" : \"*\"},{'POS':'VERB'}]\n",
        "\n",
        "matcher.add('PATTERN', [pattern]) \n",
        "matcher.add('PATTERN1', [pattern1])\n",
        "#matcher.add('RULE4',[pattern4])\n",
        "#matcher.add('RULE5',[pattern5]) \n",
        "matches = matcher(doc_58, as_spans=True) \n",
        "phrases = [] \n",
        "for span in matches:\n",
        "    phrases.append(span.text.lower())\n",
        "\n",
        "phrase_freq = Counter(phrases)\n",
        "phrase_freq.most_common(30)"
      ],
      "metadata": {
        "colab": {
          "base_uri": "https://localhost:8080/"
        },
        "id": "GDxeL2_oNA5W",
        "outputId": "eddb4c7d-2e92-4922-adf6-d6917e17e4b6"
      },
      "execution_count": 72,
      "outputs": [
        {
          "output_type": "execute_result",
          "data": {
            "text/plain": [
              "[('group members', 13),\n",
              " ('collaboration went', 4),\n",
              " ('team members', 4),\n",
              " ('quality information', 3),\n",
              " ('group finish', 3),\n",
              " ('work done', 3),\n",
              " ('peer reviews', 3),\n",
              " ('collaboration quality', 2),\n",
              " ('member thought', 2),\n",
              " ('people felt', 2),\n",
              " ('team member', 2),\n",
              " ('member contributed', 2),\n",
              " ('peer evaluations', 2),\n",
              " ('time taken', 1),\n",
              " ('team satisfaction', 1),\n",
              " ('pain points', 1),\n",
              " ('peer ratings', 1),\n",
              " ('team felt', 1),\n",
              " ('member felt', 1),\n",
              " ('group survey', 1),\n",
              " ('work contributed', 1),\n",
              " ('quality checks', 1),\n",
              " ('group did', 1),\n",
              " ('satisfaction level', 1),\n",
              " ('group dynamic', 1),\n",
              " ('grade aspect', 1),\n",
              " ('quality indicator', 1),\n",
              " ('people write', 1),\n",
              " ('group discussed', 1),\n",
              " ('person feel', 1)]"
            ]
          },
          "metadata": {},
          "execution_count": 72
        }
      ]
    },
    {
      "cell_type": "code",
      "source": [
        "# pattern2 = [{'POS':'VERB'}, {\"POS\": \"DET\", \"OP\" : \"*\"},{'POS':'NOUN'}]\n",
        "# pattern3 = [{'POS':'VERB'}, {\"POS\": \"ADP\", \"OP\" : \"*\"},{\"POS\": \"DET\", \"OP\" : \"*\"},{'POS':'NOUN'}]  \n",
        "# matcher.add('VRB_PHRASE', [pattern2]) \n",
        "# matcher.add('VRB_PHRASE', [pattern3]) \n",
        "\n",
        "#pattern4 = [{'POS':'NOUN'}, {\"POS\": \"AUX\", \"OP\" : \"*\"},{\"POS\": \"ADP\", \"OP\" : \"*\"},{\"POS\": \"DET\", \"OP\" : \"*\"},{'POS':'VERB'}]  \n",
        "#pattern5 = [{'POS':'NOUN'}, {'POS':'NOUN'},{\"POS\": \"AUX\", \"OP\" : \"*\"},{\"POS\": \"ADP\", \"OP\" : \"*\"},{\"POS\": \"DET\", \"OP\" : \"*\"},{'POS':'VERB'}]\n",
        "#matcher.add('RULE4',[pattern4])\n",
        "#matcher.add('RULE5',[pattern5]) "
      ],
      "metadata": {
        "id": "r8Hqfue-4-Kn"
      },
      "execution_count": null,
      "outputs": []
    }
  ]
}